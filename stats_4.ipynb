{
 "cells": [
  {
   "cell_type": "markdown",
   "metadata": {},
   "source": [
    "###### Problem Statement 1:\n",
    "Is gender independent of education level? A random sample of 395 people were\n",
    "surveyed and each person was asked to report the highest education level they\n",
    "obtained.\n",
    "Question: Are gender and education level dependent at 5% level of significance? In\n",
    "other words, given the data collected above, is there a relationship between the\n",
    "gender of an individual and the level of education that they have obtained?"
   ]
  },
  {
   "cell_type": "code",
   "execution_count": 7,
   "metadata": {},
   "outputs": [
    {
     "name": "stdout",
     "output_type": "stream",
     "text": [
      "df= 3, chi_value= 8.006066246262538, p_value=0.045886500891747214\n"
     ]
    }
   ],
   "source": [
    "from scipy import stats\n",
    "O= [[60,54,46,41],[40,44,53,57]]\n",
    "chi_value, p_value, df, expected= stats.chi2_contingency(O)\n",
    "print(\"df= {}, chi_value= {}, p_value={}\".format(df, chi_value, p_value))"
   ]
  },
  {
   "cell_type": "markdown",
   "metadata": {},
   "source": [
    "###### Hypothesis:\n",
    "1. H0: no relation between gender and education\n",
    "2. H1: yes, relation between gender and education"
   ]
  },
  {
   "cell_type": "code",
   "execution_count": 8,
   "metadata": {},
   "outputs": [
    {
     "data": {
      "text/plain": [
       "7.814727903251179"
      ]
     },
     "execution_count": 8,
     "metadata": {},
     "output_type": "execute_result"
    }
   ],
   "source": [
    "alpha= 0.05\n",
    "p= 1-alpha\n",
    "chi_critical= stats.chi2.ppf(p,df)\n",
    "chi_critical"
   ]
  },
  {
   "cell_type": "code",
   "execution_count": 12,
   "metadata": {},
   "outputs": [
    {
     "name": "stdout",
     "output_type": "stream",
     "text": [
      "Null hypothesis rejected\n"
     ]
    }
   ],
   "source": [
    "if p_value> alpha:\n",
    "    print(\"Null Hypothesis accepted\")\n",
    "else:\n",
    "    print(\"Null hypothesis rejected\")"
   ]
  },
  {
   "cell_type": "markdown",
   "metadata": {},
   "source": [
    "###### Alternate hypothesis is accepted\n",
    "ie., there is relation between gender and education"
   ]
  },
  {
   "cell_type": "markdown",
   "metadata": {},
   "source": [
    "###### Problem Statement 2:\n",
    "Using the following data, perform a oneway analysis of variance using α=.05. Write\n",
    "up the results in APA format."
   ]
  },
  {
   "cell_type": "code",
   "execution_count": 30,
   "metadata": {},
   "outputs": [],
   "source": [
    "g1= [51, 45, 33, 45, 67]\n",
    "g2= [23, 43, 23, 43, 45]\n",
    "g3= [56, 76, 74, 87, 56]\n",
    "\n",
    "alpha= 0.05"
   ]
  },
  {
   "cell_type": "code",
   "execution_count": 31,
   "metadata": {},
   "outputs": [
    {
     "data": {
      "text/plain": [
       "(9.747205503009463, 0.0030597541434430556)"
      ]
     },
     "execution_count": 31,
     "metadata": {},
     "output_type": "execute_result"
    }
   ],
   "source": [
    "f_value, p_value= stats.f_oneway(g1,g2,g3)\n",
    "f_value, p_value"
   ]
  },
  {
   "cell_type": "code",
   "execution_count": 38,
   "metadata": {},
   "outputs": [
    {
     "data": {
      "text/plain": [
       "19.412511147223462"
      ]
     },
     "execution_count": 38,
     "metadata": {},
     "output_type": "execute_result"
    }
   ],
   "source": [
    "alpha= 0.05\n",
    "p= 1-alpha\n",
    "k=3\n",
    "n= 15 ##(n-> total values in all groups)\n",
    "dfw= n-k\n",
    "dfb= k-1\n",
    "f_critical= stats.f.ppf(p, dfw, dfb)\n",
    "f_critical"
   ]
  },
  {
   "cell_type": "code",
   "execution_count": 42,
   "metadata": {},
   "outputs": [
    {
     "name": "stdout",
     "output_type": "stream",
     "text": [
      "Null hypothesis rejected\n"
     ]
    }
   ],
   "source": [
    "if p_value> alpha:\n",
    "    print(\"Null Hypothesis accepted\")\n",
    "else:\n",
    "    print(\"Null hypothesis rejected\")"
   ]
  },
  {
   "cell_type": "code",
   "execution_count": 56,
   "metadata": {},
   "outputs": [
    {
     "name": "stdout",
     "output_type": "stream",
     "text": [
      "APA Format\n",
      "F(2,12) = 9.747205503009463\n"
     ]
    }
   ],
   "source": [
    "print(\"APA Format\")\n",
    "print(\"F(\" + str(dfb)+\",\"+str(dfw)+\") = \" + str(f_value))"
   ]
  },
  {
   "cell_type": "markdown",
   "metadata": {},
   "source": [
    "###### Problem Statement 3:\n",
    "Calculate F Test for given 10, 20, 30, 40, 50 and 5,10,15, 20, 25.\n",
    "For 10, 20, 30, 40, 50"
   ]
  },
  {
   "cell_type": "code",
   "execution_count": 50,
   "metadata": {},
   "outputs": [
    {
     "data": {
      "text/plain": [
       "(2.0, 0.177978515625)"
      ]
     },
     "execution_count": 50,
     "metadata": {},
     "output_type": "execute_result"
    }
   ],
   "source": [
    "g_1 = [10, 20, 30, 40, 50]\n",
    "g_2 = [5, 10, 15, 20, 25]\n",
    "g_3 = [10, 20, 30, 40, 50]\n",
    "k=3\n",
    "F_value, P_value= stats.f_oneway(g_1,g_2,g_3)\n",
    "F_value, P_value"
   ]
  },
  {
   "cell_type": "code",
   "execution_count": 51,
   "metadata": {},
   "outputs": [
    {
     "name": "stdout",
     "output_type": "stream",
     "text": [
      "Null Hypothesis accepted\n"
     ]
    }
   ],
   "source": [
    "alpha= 0.05\n",
    "if p_value> alpha:\n",
    "    print(\"Null Hypothesis accepted\")\n",
    "else:\n",
    "    print(\"Null hypothesis rejected\")"
   ]
  },
  {
   "cell_type": "code",
   "execution_count": 55,
   "metadata": {},
   "outputs": [
    {
     "name": "stdout",
     "output_type": "stream",
     "text": [
      "F(2,3) = 2.0\n"
     ]
    }
   ],
   "source": [
    "print(\"F(\" + str(k-1)+\",\"+str(k)+\") = \" + str(F_value))"
   ]
  },
  {
   "cell_type": "code",
   "execution_count": null,
   "metadata": {},
   "outputs": [],
   "source": []
  }
 ],
 "metadata": {
  "kernelspec": {
   "display_name": "Python 3",
   "language": "python",
   "name": "python3"
  },
  "language_info": {
   "codemirror_mode": {
    "name": "ipython",
    "version": 3
   },
   "file_extension": ".py",
   "mimetype": "text/x-python",
   "name": "python",
   "nbconvert_exporter": "python",
   "pygments_lexer": "ipython3",
   "version": "3.8.3"
  }
 },
 "nbformat": 4,
 "nbformat_minor": 4
}
