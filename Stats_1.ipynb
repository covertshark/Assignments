{
 "cells": [
  {
   "cell_type": "code",
   "execution_count": 312,
   "metadata": {},
   "outputs": [],
   "source": [
    "import numpy as np\n",
    "from scipy import stats\n",
    "from scipy.stats import *\n",
    "import math"
   ]
  },
  {
   "cell_type": "markdown",
   "metadata": {},
   "source": [
    "Calculate the mean, median, mode and standard deviation for the problem\n",
    "\n",
    "###### Problem Statement 1:\n",
    "\n",
    "The marks awarded for an assignment set for a Year 8 class of 20 students were as follows:\n",
    "\n",
    "6 7 5 7 7 8 7 6 9 7 4 10 6 8 8 9 5 6 4 8"
   ]
  },
  {
   "cell_type": "code",
   "execution_count": 313,
   "metadata": {},
   "outputs": [
    {
     "name": "stdout",
     "output_type": "stream",
     "text": [
      "mean: 6.85\n",
      "median: 7\n",
      "mode: ModeResult(mode=array([7]), count=array([5]))\n",
      "standard deviation: 1.5898113095584647\n"
     ]
    }
   ],
   "source": [
    "a= [6,7,5,7,7,8,7,6,9,7,4,10,6,8,8,9,5,6,4,8]\n",
    "\n",
    "print(\"mean: {}\".format(np.mean(a)))\n",
    "print(\"median: {}\".format(int(np.median(a))))\n",
    "print(\"mode: {}\".format(stats.mode(a)))\n",
    "print(\"standard deviation: {}\".format(np.std(a)))"
   ]
  },
  {
   "cell_type": "markdown",
   "metadata": {},
   "source": [
    "Calculate the mean, median, mode and standard deviation for the problem\n",
    "\n",
    "###### Problem Statement 2:\n",
    "\n",
    "The number of calls from motorists per day for roadside service was recorded for a particular month:\n",
    "\n",
    "28, 122, 217, 130, 120, 86, 80, 90, 140, 120, 70, 40, 145, 113, 90, 68, 174, 194, 170, 100, 75, 104, 97, 75,\n",
    "123, 100, 75, 104, 97, 75, 123, 100, 89, 120, 109"
   ]
  },
  {
   "cell_type": "code",
   "execution_count": 314,
   "metadata": {},
   "outputs": [
    {
     "name": "stdout",
     "output_type": "stream",
     "text": [
      "mean: 107.51428571428572\n",
      "median: 100\n",
      "mode: ModeResult(mode=array([75]), count=array([4]))\n",
      "standard deviation: 38.77287080168403\n"
     ]
    }
   ],
   "source": [
    "m= [28, 122, 217, 130, 120, 86, 80, 90, 140, 120, 70, 40, 145, 113, 90, 68, 174, 194, 170, 100, 75, 104, 97, 75, 123,\n",
    "    100, 75, 104, 97, 75, 123, 100, 89, 120, 109]\n",
    "\n",
    "print(\"mean: {}\".format(np.mean(m)))\n",
    "print(\"median: {}\".format(int(np.median(m))))\n",
    "print(\"mode: {}\".format(stats.mode(m)))\n",
    "print(\"standard deviation: {}\".format(np.std(m)))"
   ]
  },
  {
   "cell_type": "markdown",
   "metadata": {},
   "source": [
    "###### Problem Statement 3:\n",
    "\n",
    "The number of times I go to the gym in weekdays, are given below along with its associated probability:\n",
    "\n",
    "x = 0, 1, 2, 3, 4, 5 f(x) = 0.09, 0.15, 0.40, 0.25, 0.10, 0.01\n",
    "\n",
    "Calculate the mean no. of workouts in a week. Also evaluate the variance involved in it."
   ]
  },
  {
   "cell_type": "code",
   "execution_count": 315,
   "metadata": {},
   "outputs": [
    {
     "name": "stdout",
     "output_type": "stream",
     "text": [
      "mean no. of workouts: 2.15\n",
      "variance of workouts: 3.4910250000000005\n"
     ]
    }
   ],
   "source": [
    "x = 0, 1, 2, 3, 4, 5\n",
    "y = 0.09, 0.15, 0.40, 0.25, 0.10, 0.01\n",
    "\n",
    "c = [x[i] * y[i] for i in range(len(x))]\n",
    "v= [((x[i]-c[i])**2)*y[i] for i in range(len(x))]\n",
    "print(\"mean no. of workouts: {}\".format(sum(c)))\n",
    "print(\"variance of workouts: {}\".format(sum(v)))\n"
   ]
  },
  {
   "cell_type": "markdown",
   "metadata": {},
   "source": [
    "###### Problem Statement 4:\n",
    "\n",
    "Let the continuous random variable D denote the diameter of the hole drilled in an aluminum sheet.\n",
    "The target diameter to be achieved is 12.5mm. Random disturbances in the process often result in inaccuracy.\n",
    "Historical data shows that the distribution of D can be modelled by the PDF (𝑑) = 20𝑒−20(𝑑−12.5), 𝑑 ≥ 12.5. \n",
    "If a part with diameter > 12.6 mm needs to be scrapped, what is the proportion of those parts? What is the CDF when the diameter is of 11 mm? What is your conclusion regarding the proportion of scraps?"
   ]
  },
  {
   "cell_type": "code",
   "execution_count": 316,
   "metadata": {},
   "outputs": [
    {
     "name": "stdout",
     "output_type": "stream",
     "text": [
      "P(-inf<X<12.5) is oo\n",
      "P(12.5<X<12.6) is 0.864664716763387\n",
      "P(12.6<X<inf) is 0.135335283236613\n"
     ]
    }
   ],
   "source": [
    "from sympy import *\n",
    "\n",
    "D= Symbol('D')\n",
    "\n",
    "#P(-inf<X<12.5)\n",
    "fn1= integrate(20*math.e**(-20*(D-12.5)), (D,-math.inf, 12.5))\n",
    "\n",
    "#P(12.5<X<12.6)\n",
    "fn2= integrate(20*math.e**(-20*(D-12.5)), (D,12.5, 12.6))\n",
    "\n",
    "#P(12.6<X<inf)\n",
    "fn3= integrate(20*math.e**(-20*(D-12.5)), (D,12.6, math.inf))\n",
    "\n",
    "print(\"P(-inf<X<12.5) is {}\".format(fn1))\n",
    "print(\"P(12.5<X<12.6) is {}\".format(fn2))\n",
    "print(\"P(12.6<X<inf) is {}\".format(fn3))\n",
    "# print(fn2)\n",
    "# print(\"Proportion to be scraped when Diameter>12.6 is {}\".format(fn3))\n",
    "# fn3"
   ]
  },
  {
   "cell_type": "markdown",
   "metadata": {},
   "source": [
    "###### Conclusion:\n",
    "Range of diameter lies from 12.5mm to infinity.(Not less than this)\n",
    "1. When diameter(D) lies between -infinity and 12.6, value of fn is 0 mm\n",
    "2. When diameter(D) lies between 12.5 and 12.6, the portion to be scraped is 0.865 mm.\n",
    "3. When diameter(D) is greater than 12.6, the portion to be scraped is 0.135 mm.\n",
    "4. CDF when diameter(D) = 11 mm then, value is 0"
   ]
  },
  {
   "cell_type": "markdown",
   "metadata": {},
   "source": [
    "###### Problem Statement 5:\n",
    "A company manufactures LED bulbs with a faulty rate of 30%. If I randomly select 6 chosen LEDs, what is the probability of having 2 faulty LEDs in my sample?\n",
    "Calculate the average value of this process. Also evaluate the standard deviation\n",
    "associated with it."
   ]
  },
  {
   "cell_type": "code",
   "execution_count": 319,
   "metadata": {
    "scrolled": true
   },
   "outputs": [
    {
     "name": "stdout",
     "output_type": "stream",
     "text": [
      "Probability of 2 faulty bulbs in 6 is 0.32413499999999995\n",
      "Average of faulty bulbs is 1.8\n",
      "Standered Deviation of faulty bulbs is 1.122\n"
     ]
    }
   ],
   "source": [
    "n= 6\n",
    "r= 2\n",
    "p= 0.3\n",
    "q=0.7\n",
    "\n",
    "P= binom.pmf(k=r, n=n, p=p)\n",
    "\n",
    "print(\"Probability of 2 faulty bulbs in 6 is {}\".format(P))\n",
    "print(\"Average of faulty bulbs is {}\".format(round((n*p),3)))\n",
    "print(\"Standered Deviation of faulty bulbs is {}\".format(round(math.sqrt(n*p*q),3)))"
   ]
  },
  {
   "cell_type": "markdown",
   "metadata": {},
   "source": [
    "###### Problem Statement 6:\n",
    "Gaurav and Barakha are both preparing for entrance exams. Gaurav attempts to solve 8 questions per day with a correction rate of 75%, while Barakha averages around 12 questions per day with a correction rate of 45%. \n",
    "What is the probability that each of them will solve 5 questions correctly? \n",
    "What happens in cases of 4 and 6 correct solutions? What do you infer from it? \n",
    "What are the two main governing factors affecting their ability to solve questions correctly? \n",
    "Give a pictorial representation of the same to validate your answer."
   ]
  },
  {
   "cell_type": "code",
   "execution_count": 79,
   "metadata": {},
   "outputs": [],
   "source": [
    "G_n= 8 #gaurav attempts\n",
    "B_n= 12 #barakha attempts\n",
    "pc_G= 0.75 #Gaurav correction rate\n",
    "pc_B= 0.45 #Barakha correction rate"
   ]
  },
  {
   "cell_type": "code",
   "execution_count": 80,
   "metadata": {},
   "outputs": [
    {
     "name": "stdout",
     "output_type": "stream",
     "text": [
      "0.20764160156250022 0.22249823843265792\n"
     ]
    }
   ],
   "source": [
    "# gaurav 5 correct questions.\n",
    "r=5\n",
    "\n",
    "P_G_5= binom.pmf(n= G_n, k= r, p= pc_G)\n",
    "P_B_5= binom.pmf(n= B_n, k= r, p= pc_B)\n",
    "\n",
    "print(P_G_5, P_B_5)"
   ]
  },
  {
   "cell_type": "code",
   "execution_count": 81,
   "metadata": {},
   "outputs": [
    {
     "name": "stdout",
     "output_type": "stream",
     "text": [
      "0.08651733398437506 0.16996393213605795\n"
     ]
    }
   ],
   "source": [
    "# gaurav 4 correct questions.\n",
    "r=4\n",
    "\n",
    "P_G_4= binom.pmf(n= G_n, k= r, p= pc_G)\n",
    "P_B_4= binom.pmf(n= B_n, k= r, p= pc_B)\n",
    "\n",
    "print(P_G_4, P_B_4)"
   ]
  },
  {
   "cell_type": "code",
   "execution_count": 82,
   "metadata": {},
   "outputs": [
    {
     "name": "stdout",
     "output_type": "stream",
     "text": [
      "0.31146240234375017 0.21238468214026424\n"
     ]
    }
   ],
   "source": [
    "# gaurav 6 correct questions.\n",
    "r=6\n",
    "\n",
    "P_G_6= binom.pmf(n= G_n, k= r, p= pc_G)\n",
    "P_B_6= binom.pmf(n= B_n, k= r, p= pc_B)\n",
    "\n",
    "print(P_G_6, P_B_6)"
   ]
  },
  {
   "cell_type": "code",
   "execution_count": 111,
   "metadata": {},
   "outputs": [
    {
     "data": {
      "application/javascript": [
       "\n",
       "        if (window._pyforest_update_imports_cell) { window._pyforest_update_imports_cell('import pandas as pd\\nimport seaborn as sns'); }\n",
       "    "
      ],
      "text/plain": [
       "<IPython.core.display.Javascript object>"
      ]
     },
     "metadata": {},
     "output_type": "display_data"
    },
    {
     "data": {
      "text/html": [
       "<div>\n",
       "<style scoped>\n",
       "    .dataframe tbody tr th:only-of-type {\n",
       "        vertical-align: middle;\n",
       "    }\n",
       "\n",
       "    .dataframe tbody tr th {\n",
       "        vertical-align: top;\n",
       "    }\n",
       "\n",
       "    .dataframe thead th {\n",
       "        text-align: right;\n",
       "    }\n",
       "</style>\n",
       "<table border=\"1\" class=\"dataframe\">\n",
       "  <thead>\n",
       "    <tr style=\"text-align: right;\">\n",
       "      <th></th>\n",
       "      <th>P_Gaurav</th>\n",
       "      <th>P_Barakha</th>\n",
       "    </tr>\n",
       "  </thead>\n",
       "  <tbody>\n",
       "    <tr>\n",
       "      <th>4</th>\n",
       "      <td>0.086517</td>\n",
       "      <td>0.169964</td>\n",
       "    </tr>\n",
       "    <tr>\n",
       "      <th>5</th>\n",
       "      <td>0.207642</td>\n",
       "      <td>0.222498</td>\n",
       "    </tr>\n",
       "    <tr>\n",
       "      <th>6</th>\n",
       "      <td>0.311462</td>\n",
       "      <td>0.212385</td>\n",
       "    </tr>\n",
       "  </tbody>\n",
       "</table>\n",
       "</div>"
      ],
      "text/plain": [
       "   P_Gaurav  P_Barakha\n",
       "4  0.086517   0.169964\n",
       "5  0.207642   0.222498\n",
       "6  0.311462   0.212385"
      ]
     },
     "execution_count": 111,
     "metadata": {},
     "output_type": "execute_result"
    }
   ],
   "source": [
    "df= pd.DataFrame({'P_Gaurav': [P_G_4,P_G_5,P_G_6], 'P_Barakha': [P_B_4,P_B_5,P_B_6]}, index=(4,5,6))\n",
    "df"
   ]
  },
  {
   "cell_type": "code",
   "execution_count": 112,
   "metadata": {
    "scrolled": true
   },
   "outputs": [
    {
     "data": {
      "text/plain": [
       "[Text(0.5, 0, 'Correct Answers'), Text(0, 0.5, 'Probability')]"
      ]
     },
     "execution_count": 112,
     "metadata": {},
     "output_type": "execute_result"
    },
    {
     "data": {
      "image/png": "[encoded data removed]",
      "text/plain": [
       "<Figure size 432x288 with 1 Axes>"
      ]
     },
     "metadata": {
      "needs_background": "light"
     },
     "output_type": "display_data"
    }
   ],
   "source": [
    "ax= df.plot.bar()\n",
    "ax.set(xlabel='Correct Answers', ylabel='Probability')"
   ]
  },
  {
   "cell_type": "markdown",
   "metadata": {},
   "source": [
    "###### Factors affecting their ability to solve questions correctly:\n",
    "1. Number of questions attempted per day.\n",
    "2. Correction rate\n"
   ]
  },
  {
   "cell_type": "markdown",
   "metadata": {},
   "source": [
    "###### Problem Statement 7:\n",
    "\n",
    "Customers arrive at a rate of 72 per hour to my shop. What is the probability of 𝑘 customers arriving in 4 minutes? \n",
    "\n",
    "a) 5 customers,\n",
    "b) not more than 3 customers, \n",
    "c) more than 3 customers. \n",
    "\n",
    "Give a pictorial representation of the same to validate your answer."
   ]
  },
  {
   "cell_type": "code",
   "execution_count": 133,
   "metadata": {},
   "outputs": [
    {
     "name": "stdout",
     "output_type": "stream",
     "text": [
      "Avg. Customers in 4 minutes: 4.8\n"
     ]
    }
   ],
   "source": [
    "customer= (72/60)*4\n",
    "print(\"Avg. Customers in 4 minutes: {}\".format(customer))\n",
    "\n",
    "def psn(mu,k):\n",
    "    return poisson.pmf(k, mu)"
   ]
  },
  {
   "cell_type": "code",
   "execution_count": 134,
   "metadata": {},
   "outputs": [
    {
     "data": {
      "text/plain": [
       "0.17474768364388296"
      ]
     },
     "execution_count": 134,
     "metadata": {},
     "output_type": "execute_result"
    }
   ],
   "source": [
    "# a) Prob. of 5 customers in 4 minutes\n",
    "\n",
    "prob_a= psn(customer,5)\n",
    "prob_a"
   ]
  },
  {
   "cell_type": "code",
   "execution_count": 135,
   "metadata": {},
   "outputs": [
    {
     "data": {
      "text/plain": [
       "0.29422991649656405"
      ]
     },
     "execution_count": 135,
     "metadata": {},
     "output_type": "execute_result"
    }
   ],
   "source": [
    "# b) Prob. of not more than 3 customers in 4 minutes-> 0,1,2,3\n",
    "\n",
    "for i in range(4):\n",
    "    b= psn(customer,i)\n",
    "    b += prob_b\n",
    "prob_b"
   ]
  },
  {
   "cell_type": "code",
   "execution_count": 136,
   "metadata": {},
   "outputs": [
    {
     "data": {
      "text/plain": [
       "0.705770083503436"
      ]
     },
     "execution_count": 136,
     "metadata": {},
     "output_type": "execute_result"
    }
   ],
   "source": [
    "# c) Prob. of more than 3 customers in 4 minutes\n",
    "\n",
    "prob_c= 1- prob_b\n",
    "prob_c"
   ]
  },
  {
   "cell_type": "code",
   "execution_count": 189,
   "metadata": {},
   "outputs": [],
   "source": [
    "# graph plot"
   ]
  },
  {
   "cell_type": "markdown",
   "metadata": {},
   "source": [
    "###### Problem Statement 8:\n",
    "I work as a data analyst in Aeon Learning Pvt. Ltd. After analyzing data, I make reports, where I have the efficiency of entering 77 words per minute with 6 errors per hour. What is the probability that I will commit 2 errors in a 455-word financial report? What happens when the no. of words increases/decreases (in case of 1000 words, 255 words)?\n",
    "How is the 𝜆 affected? How does it influence the PMF? Give a pictorial representation of the same to validate your answer."
   ]
  },
  {
   "cell_type": "code",
   "execution_count": 208,
   "metadata": {},
   "outputs": [
    {
     "name": "stdout",
     "output_type": "stream",
     "text": [
      "Probability of 2 errors in a 455-word financial report is 0.09669027375144444 \n"
     ]
    }
   ],
   "source": [
    "# time req. for 255 words\n",
    "T_1= 455/77\n",
    "\n",
    "#errors/hr\n",
    "err= 6/60\n",
    "\n",
    "# (errors/hr * total time for 455 words)\n",
    "mu= (err*T_1)\n",
    "\n",
    "k=2\n",
    "prob= poisson.pmf(mu= mu, k=k)\n",
    "print(\"Probability of 2 errors in a 455-word financial report is {} \".format(prob))"
   ]
  },
  {
   "cell_type": "code",
   "execution_count": 209,
   "metadata": {},
   "outputs": [
    {
     "name": "stdout",
     "output_type": "stream",
     "text": [
      "Probability of 2 errors in a 1000-word financial report is 0.23012815007300153 \n"
     ]
    }
   ],
   "source": [
    "# Similarly in case of 1000 words(increase)\n",
    "T_2= 1000/77\n",
    "mu2= (err*T_2)\n",
    "\n",
    "prob_in= poisson.pmf(mu= mu2, k=k)\n",
    "print(\"Probability of 2 errors in a 1000-word financial report is {} \".format(prob_in))"
   ]
  },
  {
   "cell_type": "code",
   "execution_count": 210,
   "metadata": {},
   "outputs": [
    {
     "name": "stdout",
     "output_type": "stream",
     "text": [
      "Probability of 2 errors in a 255-word financial report is 0.039377135392854125 \n"
     ]
    }
   ],
   "source": [
    "# Similarly in case of 255 words(decrease)\n",
    "T_3= 255/77\n",
    "mu3= (err*T_3)\n",
    "\n",
    "prob_de= poisson.pmf(mu= mu3, k=k)\n",
    "print(\"Probability of 2 errors in a 255-word financial report is {} \".format(prob_de))"
   ]
  },
  {
   "cell_type": "code",
   "execution_count": 215,
   "metadata": {},
   "outputs": [
    {
     "data": {
      "application/javascript": [
       "\n",
       "        if (window._pyforest_update_imports_cell) { window._pyforest_update_imports_cell('import pandas as pd\\nimport seaborn as sns\\nimport matplotlib.pyplot as plt'); }\n",
       "    "
      ],
      "text/plain": [
       "<IPython.core.display.Javascript object>"
      ]
     },
     "metadata": {},
     "output_type": "display_data"
    },
    {
     "data": {
      "text/html": [
       "<div>\n",
       "<style scoped>\n",
       "    .dataframe tbody tr th:only-of-type {\n",
       "        vertical-align: middle;\n",
       "    }\n",
       "\n",
       "    .dataframe tbody tr th {\n",
       "        vertical-align: top;\n",
       "    }\n",
       "\n",
       "    .dataframe thead th {\n",
       "        text-align: right;\n",
       "    }\n",
       "</style>\n",
       "<table border=\"1\" class=\"dataframe\">\n",
       "  <thead>\n",
       "    <tr style=\"text-align: right;\">\n",
       "      <th></th>\n",
       "      <th>Probability</th>\n",
       "    </tr>\n",
       "  </thead>\n",
       "  <tbody>\n",
       "    <tr>\n",
       "      <th>255</th>\n",
       "      <td>0.039377</td>\n",
       "    </tr>\n",
       "    <tr>\n",
       "      <th>455</th>\n",
       "      <td>0.096690</td>\n",
       "    </tr>\n",
       "    <tr>\n",
       "      <th>1000</th>\n",
       "      <td>0.230128</td>\n",
       "    </tr>\n",
       "  </tbody>\n",
       "</table>\n",
       "</div>"
      ],
      "text/plain": [
       "      Probability\n",
       "255      0.039377\n",
       "455      0.096690\n",
       "1000     0.230128"
      ]
     },
     "execution_count": 215,
     "metadata": {},
     "output_type": "execute_result"
    }
   ],
   "source": [
    "df= pd.DataFrame({'Probability':[prob_de,prob,prob_in]}, index=(255,455,1000))\n",
    "df"
   ]
  },
  {
   "cell_type": "code",
   "execution_count": 216,
   "metadata": {},
   "outputs": [
    {
     "data": {
      "text/plain": [
       "[Text(0.5, 0, 'Total Words'), Text(0, 0.5, 'Probability of 2 errors')]"
      ]
     },
     "execution_count": 216,
     "metadata": {},
     "output_type": "execute_result"
    },
    {
     "data": {
      "image/png": "[encoded data removed]",
      "text/plain": [
       "<Figure size 432x288 with 1 Axes>"
      ]
     },
     "metadata": {
      "needs_background": "light"
     },
     "output_type": "display_data"
    }
   ],
   "source": [
    "ax= df.plot.bar()\n",
    "ax.set(xlabel='Total Words', ylabel='Probability of 2 errors')"
   ]
  },
  {
   "cell_type": "markdown",
   "metadata": {},
   "source": [
    "###### conclusion:\n",
    "1. 𝜆 is affected by increase in words. As the no. of words increases, 𝜆(mean) increases.\n",
    "2. Also increasing the pmf while checking for 2 errors i.e., probability of occurance of error increases."
   ]
  },
  {
   "cell_type": "markdown",
   "metadata": {},
   "source": [
    "###### Problem Statement 9:\n",
    "Let the continuous random variable D denote the diameter of the hole drilled in an aluminum sheet. The target diameter to be achieved is 12.5mm. Random disturbances in the process often result in inaccuracy. Historical data shows that the distribution of D can be modelled by the PDF, f(d) = 20e−20(d−12.5), d ≥ 12.5. If a part with diameter > 12.6 mm needs to be scrapped, what is the proportion of those parts? What is the CDF when the diameter is of 11 mm?\n",
    "What is the conclusion of this experiment?"
   ]
  },
  {
   "cell_type": "code",
   "execution_count": 222,
   "metadata": {},
   "outputs": [
    {
     "name": "stdout",
     "output_type": "stream",
     "text": [
      "P(-inf<X<12.5) is oo\n",
      "P(12.5<X<12.6) is 0.864664716763387\n",
      "P(12.6<X<inf) is 0.135335283236613\n"
     ]
    }
   ],
   "source": [
    "from sympy import *\n",
    "\n",
    "D= Symbol('D')\n",
    "\n",
    "#P(-inf<X<12.5)\n",
    "fn1= integrate(20*math.e**(-20*(D-12.5)), (D,-math.inf, 12.5))\n",
    "\n",
    "#P(12.5<X<12.6)\n",
    "fn2= integrate(20*math.e**(-20*(D-12.5)), (D,12.5, 12.6))\n",
    "\n",
    "#P(12.6<X<inf)\n",
    "fn3= integrate(20*math.e**(-20*(D-12.5)), (D,12.6, math.inf))\n",
    "\n",
    "print(\"P(-inf<X<12.5) is {}\".format(fn1))\n",
    "print(\"P(12.5<X<12.6) is {}\".format(fn2))\n",
    "print(\"P(12.6<X<inf) is {}\".format(fn3))"
   ]
  },
  {
   "cell_type": "markdown",
   "metadata": {},
   "source": [
    "###### Conclusion:\n",
    "Range of diameter lies from 12.5mm to infinity.(less than this is 0 for any value)\n",
    "1. When diameter(D) lies between -infinity and 12.6, value of fn is 0\n",
    "2. When diameter(D) lies between 12.5 and 12.6, the portion to be scraped is 0.865\n",
    "3. When diameter(D) is greater than 12.6, the portion to be scraped is 0.135\n",
    "4. CDF when diameter(D) = 11 mm then, value is 0"
   ]
  },
  {
   "cell_type": "markdown",
   "metadata": {},
   "source": [
    "###### Problem Statement 10:\n",
    "Please compute the following:\n",
    "1. P(Z > 1.26), . P(Z < −0.86), P(Z > −1.37), P(−1.25 < Z < 0.37), P(Z ≤ −4.6)\n",
    "2. Find the value 𝑧 such that 𝑃(𝑍 > 𝑧) = 0.05\n",
    "3. Find the value of 𝑧 such that 𝑃(−𝑧 < 𝑍 < 𝑧) = 0.99"
   ]
  },
  {
   "cell_type": "code",
   "execution_count": 223,
   "metadata": {},
   "outputs": [
    {
     "data": {
      "text/plain": [
       "0.1038346811213004"
      ]
     },
     "execution_count": 223,
     "metadata": {},
     "output_type": "execute_result"
    }
   ],
   "source": [
    "## 1) P(Z>1.26)\n",
    "from scipy import stats\n"
   ]
  },
  {
   "cell_type": "code",
   "execution_count": 251,
   "metadata": {},
   "outputs": [
    {
     "name": "stdout",
     "output_type": "stream",
     "text": [
      "P(Z > 1.26) is 0.1038\n",
      "P(Z < −0.86) is 0.1949\n",
      "P(Z > −1.37) is 0.9147\n",
      "P(−1.25 < Z < 0.37) is 0.5387\n",
      "P(Z ≤ −4.6) is 0.0\n"
     ]
    }
   ],
   "source": [
    "## 1.)P(Z > 1.26), . P(Z < −0.86), P(Z > −1.37), P(−1.25 < Z < 0.37), P(Z ≤ −4.6)\n",
    "\n",
    "## P(Z > 1.26)\n",
    "print(\"P(Z > 1.26) is {}\".format(round(stats.norm.cdf(-1.26),4)))\n",
    "\n",
    "## P(Z < −0.86)\n",
    "print(\"P(Z < −0.86) is {}\".format(round(stats.norm.cdf(-0.86),4)))\n",
    "\n",
    "## P(Z > −1.37)\n",
    "print(\"P(Z > −1.37) is {}\".format(round(stats.norm.cdf(1.37),4)))\n",
    "\n",
    "## P(−1.25 < Z < 0.37)\n",
    "c= stats.norm.cdf(0.37) - stats.norm.cdf(-1.25)\n",
    "print(\"P(−1.25 < Z < 0.37) is {}\".format(round(c,4)))\n",
    "\n",
    "## P(Z ≤ −4.6)\n",
    "print(\"P(Z ≤ −4.6) is {}\".format(round(stats.norm.cdf(-4.6),4)))"
   ]
  },
  {
   "cell_type": "code",
   "execution_count": 254,
   "metadata": {},
   "outputs": [
    {
     "name": "stdout",
     "output_type": "stream",
     "text": [
      "z value = -1.645\n"
     ]
    }
   ],
   "source": [
    "## 2.)Find the value 𝑧 such that 𝑃(𝑍 > 𝑧) = 0.05\n",
    "\n",
    "print(\"z value = {}\".format(round(stats.norm.ppf(0.05),3)))"
   ]
  },
  {
   "cell_type": "code",
   "execution_count": 258,
   "metadata": {},
   "outputs": [
    {
     "name": "stdout",
     "output_type": "stream",
     "text": [
      "z value = 2.326\n"
     ]
    }
   ],
   "source": [
    "## 3.) Find the value of 𝑧 such that 𝑃(−𝑧 < 𝑍 < 𝑧) = 0.99\n",
    "\n",
    "print(\"z value = {}\".format(round(stats.norm.ppf(0.99),3)))"
   ]
  },
  {
   "cell_type": "markdown",
   "metadata": {},
   "source": [
    "###### Problem Statement 11:\n",
    "The current flow in a copper wire follow a normal distribution with a mean of 10 𝑚A\n",
    "and a variance of 4 (𝑚𝐴)2.\n",
    "What is the probability that a current measurement will exceed 13 𝑚𝐴? What is the\n",
    "probability that a current measurement is between 9 and 11mA? Determine the\n",
    "current measurement which has a probability of 0.98."
   ]
  },
  {
   "cell_type": "code",
   "execution_count": 297,
   "metadata": {},
   "outputs": [],
   "source": [
    "def p_value(x,mu,sd):\n",
    "    z_score= (x-mu)/sd\n",
    "    value= stats.norm.sf(z_score)\n",
    "    return value\n",
    "mean= 10\n",
    "std= math.sqrt(4)"
   ]
  },
  {
   "cell_type": "code",
   "execution_count": 298,
   "metadata": {},
   "outputs": [
    {
     "name": "stdout",
     "output_type": "stream",
     "text": [
      "Probability of measurement exceeding 13ma = 0.0668\n"
     ]
    }
   ],
   "source": [
    "## 1) probability that a current measurement will exceed 13 𝑚𝐴\n",
    "\n",
    "read= 13\n",
    "print(\"Probability of measurement exceeding 13ma = {}\".format(round(p_value(read,mean,std),4)))"
   ]
  },
  {
   "cell_type": "code",
   "execution_count": 299,
   "metadata": {},
   "outputs": [
    {
     "name": "stdout",
     "output_type": "stream",
     "text": [
      "Probability of current measurement between 9ma and 11ma = 0.3829\n"
     ]
    }
   ],
   "source": [
    "## 2) probability that a current measurement is between 9 and 11mA\n",
    "\n",
    "read1= 9\n",
    "read2= 11\n",
    "print(\"Probability of current measurement between 9ma and 11ma = {}\".format(round((p_value(read1,mean,std)- p_value(read2,mean,std))\n",
    ",4)))"
   ]
  },
  {
   "cell_type": "code",
   "execution_count": 300,
   "metadata": {},
   "outputs": [],
   "source": [
    "def reading(prob,mu,sd):\n",
    "    z_score = stats.norm.ppf(prob)\n",
    "    reading = (z_score*sd)+mu\n",
    "    return reading"
   ]
  },
  {
   "cell_type": "code",
   "execution_count": 301,
   "metadata": {},
   "outputs": [
    {
     "name": "stdout",
     "output_type": "stream",
     "text": [
      "Current Measurement with prob 0.98 = 14.1075\n"
     ]
    }
   ],
   "source": [
    "## 3) the current measurement which has a probability of 0.98\n",
    "\n",
    "pr= 0.98\n",
    "print(\"Current Measurement with prob 0.98 = {}\".format(round(reading(pr,mean,std),4)))"
   ]
  },
  {
   "cell_type": "markdown",
   "metadata": {},
   "source": [
    "###### Problem Statement 12:\n",
    "The shaft in a piston has its diameter normally distributed with a mean of 0.2508 inch\n",
    "and a standard deviation of 0.0005 inch. The specifications of the shaft are 0.2500 ∓\n",
    "0.0015 inch. What proportion of shafts are in sync with the specifications? If the\n",
    "process is centered so that the mean is equal to the target value of 0.2500, what\n",
    "proportion of shafts conform to the new specifications? What is your conclusion from\n",
    "this experiment?"
   ]
  },
  {
   "cell_type": "code",
   "execution_count": 302,
   "metadata": {},
   "outputs": [],
   "source": [
    "mean=0.2508\n",
    "std= 0.0005\n",
    "\n",
    "#shaft specs\n",
    "ll= 0.2500-0.0015\n",
    "hl= 0.2500+0.0015"
   ]
  },
  {
   "cell_type": "code",
   "execution_count": 310,
   "metadata": {},
   "outputs": [
    {
     "name": "stdout",
     "output_type": "stream",
     "text": [
      "proportion of shafts are in sync with mean 0.2508 = 0.9192\n"
     ]
    }
   ],
   "source": [
    "def p_value(x,mu,sd):\n",
    "    z_score= (x-mu)/sd\n",
    "    value= stats.norm.sf(z_score)\n",
    "    return value\n",
    "p_l= p_value(ll,mean,std)\n",
    "p_h= p_value(hl,mean,std)\n",
    "\n",
    "print(\"Proportion of shafts are in sync with mean {} = {}\".format(mean,round(p_l-p_h,4)))"
   ]
  },
  {
   "cell_type": "code",
   "execution_count": 311,
   "metadata": {},
   "outputs": [
    {
     "name": "stdout",
     "output_type": "stream",
     "text": [
      "Proportion of shafts are in sync with mean 0.25 = 0.9973\n"
     ]
    }
   ],
   "source": [
    "#the process is centered so that the mean is equal to the target value of 0.2500\n",
    "n_mean= 0.2500\n",
    "\n",
    "p_ln= p_value(ll,n_mean,std)\n",
    "p_hn= p_value(hl,n_mean,std)\n",
    "\n",
    "print(\"Proportion of shafts are in sync with mean {} = {}\".format(n_mean,round(p_ln-p_hn,4)))"
   ]
  },
  {
   "cell_type": "markdown",
   "metadata": {},
   "source": [
    "###### Conclusion: \n",
    "1. As mean value changes from 0.2508 to 0.2500 (decreases).\n",
    "2. and standered deviation changes from 0.0005 to 0.0015 (increases).\n",
    "3. The proportion varies from 91.92% to 99.73%."
   ]
  },
  {
   "cell_type": "code",
   "execution_count": null,
   "metadata": {},
   "outputs": [],
   "source": []
  }
 ],
 "metadata": {
  "kernelspec": {
   "display_name": "Python 3",
   "language": "python",
   "name": "python3"
  },
  "language_info": {
   "codemirror_mode": {
    "name": "ipython",
    "version": 3
   },
   "file_extension": ".py",
   "mimetype": "text/x-python",
   "name": "python",
   "nbconvert_exporter": "python",
   "pygments_lexer": "ipython3",
   "version": "3.8.3"
  }
 },
 "nbformat": 4,
 "nbformat_minor": 4
}
