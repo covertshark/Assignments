{
 "cells": [
  {
   "cell_type": "code",
   "execution_count": 23,
   "metadata": {},
   "outputs": [
    {
     "name": "stdout",
     "output_type": "stream",
     "text": [
      "Moving average values list:  [5.0, 4.67, 5.67, 6.67, 9.67, 28.67, 49.33, 72.67, 84.0, 93.33, 116.33]\n",
      "Length of the list:  11\n"
     ]
    }
   ],
   "source": [
    "def moving_average(lst,window):\n",
    "    \n",
    "    i= 0\n",
    "    m_avg= []\n",
    "    n= len(lst)- window\n",
    "    \n",
    "    for i in range(n+1):\n",
    "        window_list = lst[i: i+ window]\n",
    "        \n",
    "        win_avg = round((sum(window_list)/window),2)\n",
    "        m_avg.append(win_avg)\n",
    "    \n",
    "    print(\"Moving average values list: \", m_avg)\n",
    "    print(\"Length of the list: \", len(m_avg)) \n",
    "\n",
    "lst= [3, 5, 7, 2, 8, 10, 11, 65, 72, 81, 99, 100, 150]\n",
    "window= 3\n",
    "\n",
    "moving_average(lst,window)"
   ]
  },
  {
   "cell_type": "code",
   "execution_count": 22,
   "metadata": {},
   "outputs": [
    {
     "name": "stdout",
     "output_type": "stream",
     "text": [
      "[[   32    16     8     4     2     1]\n",
      " [  243    81    27     9     3     1]\n",
      " [ 1024   256    64    16     4     1]\n",
      " [ 3125   625   125    25     5     1]\n",
      " [ 7776  1296   216    36     6     1]\n",
      " [16807  2401   343    49     7     1]\n",
      " [32768  4096   512    64     8     1]]\n"
     ]
    }
   ],
   "source": [
    "import numpy as np \n",
    "def matrix(x,n):\n",
    "    mat= np.column_stack([x**(n-1-i) for i in range(n)]) \n",
    "    print(mat)\n",
    "x=np.array([2,3,4,5,6,7,8])\n",
    "n=6\n",
    "matrix(x,n)"
   ]
  },
  {
   "cell_type": "code",
   "execution_count": null,
   "metadata": {},
   "outputs": [],
   "source": []
  },
  {
   "cell_type": "code",
   "execution_count": null,
   "metadata": {},
   "outputs": [],
   "source": []
  }
 ],
 "metadata": {
  "kernelspec": {
   "display_name": "Python 3",
   "language": "python",
   "name": "python3"
  },
  "language_info": {
   "codemirror_mode": {
    "name": "ipython",
    "version": 3
   },
   "file_extension": ".py",
   "mimetype": "text/x-python",
   "name": "python",
   "nbconvert_exporter": "python",
   "pygments_lexer": "ipython3",
   "version": "3.8.3"
  }
 },
 "nbformat": 4,
 "nbformat_minor": 4
}
