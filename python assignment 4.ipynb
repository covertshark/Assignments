{
 "cells": [
  {
   "cell_type": "code",
   "execution_count": 11,
   "metadata": {},
   "outputs": [
    {
     "name": "stdout",
     "output_type": "stream",
     "text": [
      "side_a= 3\n",
      "side_b= 4\n",
      "side_c= 5\n",
      "area of triangle: 6.0\n"
     ]
    }
   ],
   "source": [
    "# Q1.1\n",
    "a= float(input(\"side_a= \"))\n",
    "b= float(input(\"side_b= \"))\n",
    "c= float(input(\"side_c= \"))\n",
    "class side():\n",
    "    def __init__(self,a,b,c):\n",
    "        self.a=float(a)\n",
    "        self.b=float(b)\n",
    "        self.c=float(c)\n",
    "\n",
    "class area(side):\n",
    "    def area_t(self):\n",
    "        s= (self.a+self.b+self.c)/2\n",
    "        x= (s*(s-self.a)*(s-self.b)*(s-self.c)) ** 0.5\n",
    "        return x\n",
    "\n",
    "t = area(a,b,c)\n",
    "print(\"area of triangle: {}\".format(t.area_t()))"
   ]
  },
  {
   "cell_type": "code",
   "execution_count": 12,
   "metadata": {},
   "outputs": [
    {
     "name": "stdout",
     "output_type": "stream",
     "text": [
      "word length limit: 3\n",
      "no. of words in list: 4\n",
      "welcome\n",
      "yes\n",
      "no\n",
      "res\n",
      "['welcome']\n"
     ]
    }
   ],
   "source": [
    "# Q1.2\n",
    "def filter_long_words(words, n):\n",
    "    return [word for word in words if len(word)>n]\n",
    "\n",
    "n= int(input(\"word length limit: \"))\n",
    "a= int(input(\"no. of words in list: \"))\n",
    "stri= []\n",
    "for i in range(0,a):\n",
    "    ele= str(input())\n",
    "    stri.append(ele)\n",
    "\n",
    "x= filter_long_words(stri, n)\n",
    "print(x)"
   ]
  },
  {
   "cell_type": "code",
   "execution_count": 13,
   "metadata": {},
   "outputs": [
    {
     "name": "stdout",
     "output_type": "stream",
     "text": [
      "length of words of list ['ab', 'cde', 'erty']: [2, 3, 4]\n"
     ]
    }
   ],
   "source": [
    "# Q2.1\n",
    "def length_map(words):\n",
    "    return map(len, words)\n",
    "\n",
    "\n",
    "stri= ['ab','cde','erty']\n",
    "x= list(length_map(stri))\n",
    "print(\"length of words of list {}: {}\".format(stri, x))"
   ]
  },
  {
   "cell_type": "code",
   "execution_count": 14,
   "metadata": {},
   "outputs": [
    {
     "name": "stdout",
     "output_type": "stream",
     "text": [
      "Charecter: u\n",
      "True\n"
     ]
    }
   ],
   "source": [
    "# Q2.2\n",
    "def Vowel(char):\n",
    "    return char.lower() in 'aeiou'\n",
    "\n",
    "x= str(input(\"Charecter: \"))\n",
    "if len(x)==1:\n",
    "    print(Vowel(x))\n",
    "else:\n",
    "    print(\"Out of range\")"
   ]
  },
  {
   "cell_type": "code",
   "execution_count": null,
   "metadata": {},
   "outputs": [],
   "source": []
  }
 ],
 "metadata": {
  "kernelspec": {
   "display_name": "Python 3",
   "language": "python",
   "name": "python3"
  },
  "language_info": {
   "codemirror_mode": {
    "name": "ipython",
    "version": 3
   },
   "file_extension": ".py",
   "mimetype": "text/x-python",
   "name": "python",
   "nbconvert_exporter": "python",
   "pygments_lexer": "ipython3",
   "version": "3.8.3"
  }
 },
 "nbformat": 4,
 "nbformat_minor": 4
}
