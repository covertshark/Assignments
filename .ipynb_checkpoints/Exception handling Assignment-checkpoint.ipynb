{
 "cells": [
  {
   "cell_type": "code",
   "execution_count": 35,
   "metadata": {},
   "outputs": [
    {
     "name": "stdout",
     "output_type": "stream",
     "text": [
      "division by zero\n"
     ]
    }
   ],
   "source": [
    "## Q1\n",
    "\n",
    "def func():\n",
    "    return 5/0\n",
    "\n",
    "try:\n",
    "    func()\n",
    "except ZeroDivisionError:\n",
    "    print(\"division by zero\")\n",
    "except:\n",
    "    print(\"exception\")"
   ]
  },
  {
   "cell_type": "code",
   "execution_count": 36,
   "metadata": {},
   "outputs": [
    {
     "name": "stdout",
     "output_type": "stream",
     "text": [
      "Americans play Baseball\n",
      "Americans play Cricket\n",
      "Americans watch Baseball\n",
      "Americans watch Cricket\n",
      "Indians play Baseball\n",
      "Indians play Cricket\n",
      "Indians watch Baseball\n",
      "Indians watch Cricket\n"
     ]
    }
   ],
   "source": [
    "## Q2 \n",
    "Subject=['Americans', 'Indians'] \n",
    "Verb=['play', 'watch'] \n",
    "Object=['Baseball', 'Cricket']\n",
    "\n",
    "for s in Subject:\n",
    "    for v in Verb:\n",
    "        for o in Object:\n",
    "            print(s +\" \"+ v +\" \"+ o)\n",
    "\n",
    "# output=([(s +\" \"+ v +\" \" + o) for s in Subject for v in Verb for o in Object])\n",
    "# print(output)"
   ]
  },
  {
   "cell_type": "code",
   "execution_count": null,
   "metadata": {},
   "outputs": [],
   "source": []
  }
 ],
 "metadata": {
  "kernelspec": {
   "display_name": "Python 3",
   "language": "python",
   "name": "python3"
  },
  "language_info": {
   "codemirror_mode": {
    "name": "ipython",
    "version": 3
   },
   "file_extension": ".py",
   "mimetype": "text/x-python",
   "name": "python",
   "nbconvert_exporter": "python",
   "pygments_lexer": "ipython3",
   "version": "3.8.3"
  }
 },
 "nbformat": 4,
 "nbformat_minor": 4
}
