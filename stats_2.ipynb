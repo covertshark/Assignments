{
 "cells": [
  {
   "cell_type": "markdown",
   "metadata": {},
   "source": [
    "###### Problem Statement 1:\n",
    "In each of the following situations, state whether it is a correctly stated hypothesis\n",
    "testing problem and why?\n",
    "1. 𝐻0: 𝜇 = 25, 𝐻1: 𝜇 ≠ 25\n",
    "2. 𝐻0: 𝜎 > 10, 𝐻1: 𝜎 = 10\n",
    "3. 𝐻0: 𝑥 = 50, 𝐻1: 𝑥 ≠ 50\n",
    "4. 𝐻0: 𝑝 = 0.1, 𝐻1: 𝑝 = 0.5\n",
    "5. 𝐻0: 𝑠 = 30, 𝐻1: 𝑠 > 30"
   ]
  },
  {
   "cell_type": "markdown",
   "metadata": {},
   "source": [
    "###### Ans:\n",
    "1. 𝐻0: 𝜇 = 25, 𝐻1: 𝜇 ≠ 25 --> correct\n",
    "2. 𝐻0: 𝜎 > 10, 𝐻1: 𝜎 = 10 --> correct\n",
    "3. 𝐻0: 𝑥 = 50, 𝐻1: 𝑥 ≠ 50 --> not correct\n",
    "4. 𝐻0: 𝑝 = 0.1, 𝐻1: 𝑝 = 0.5 --> not correct\n",
    "5. 𝐻0: 𝑠 = 30, 𝐻1: 𝑠 > 30 --> not correct"
   ]
  },
  {
   "cell_type": "markdown",
   "metadata": {},
   "source": [
    "###### Problem Statement 2:\n",
    "\n",
    "The college bookstore tells prospective students that the average cost of its\n",
    "textbooks is Rs. 52 with a standard deviation of Rs. 4.50. A group of smart statistics\n",
    "students thinks that the average cost is higher. To test the bookstore’s claim against\n",
    "their alternative, the students will select a random sample of size 100. Assume that\n",
    "the mean from their random sample is Rs. 52.80. Perform a hypothesis test at the\n",
    "5% level of significance and state your decision."
   ]
  },
  {
   "cell_type": "code",
   "execution_count": 54,
   "metadata": {},
   "outputs": [],
   "source": [
    "# z_test\n",
    "def test_z(std,n,mu,x):\n",
    "    se= std/np.sqrt(n)\n",
    "    z= (x-mu)/se\n",
    "    return z"
   ]
  },
  {
   "cell_type": "code",
   "execution_count": 55,
   "metadata": {},
   "outputs": [],
   "source": [
    "from scipy import stats\n",
    "import numpy as np\n",
    "\n",
    "mu= 52\n",
    "std= 4.50\n",
    "\n",
    "n=100\n",
    "x= 52.80\n",
    "alpha= 0.05"
   ]
  },
  {
   "cell_type": "markdown",
   "metadata": {},
   "source": [
    "###### Hypothesis\n",
    "1. H0: mu > 52\n",
    "2. H1: mu <= 52\n",
    "3. condition is of one-tail test"
   ]
  },
  {
   "cell_type": "code",
   "execution_count": 56,
   "metadata": {},
   "outputs": [
    {
     "data": {
      "text/plain": [
       "1.7777777777777715"
      ]
     },
     "execution_count": 56,
     "metadata": {},
     "output_type": "execute_result"
    }
   ],
   "source": [
    "z_test= test_z(std,n,mu,x)\n",
    "z_test"
   ]
  },
  {
   "cell_type": "code",
   "execution_count": 57,
   "metadata": {},
   "outputs": [
    {
     "data": {
      "text/plain": [
       "-1.6448536269514729"
      ]
     },
     "execution_count": 57,
     "metadata": {},
     "output_type": "execute_result"
    }
   ],
   "source": [
    "z_critical= stats.norm.ppf(alpha)\n",
    "z_critical"
   ]
  },
  {
   "cell_type": "code",
   "execution_count": 58,
   "metadata": {},
   "outputs": [],
   "source": [
    "## check test\n",
    "def check_ztest(z_test, z_critical):\n",
    "    if z_test>z_critical:\n",
    "        print(\"Null hypothesis accepted\")\n",
    "    else:\n",
    "        print(\"Null hupothesis rejected\")"
   ]
  },
  {
   "cell_type": "code",
   "execution_count": 59,
   "metadata": {},
   "outputs": [
    {
     "name": "stdout",
     "output_type": "stream",
     "text": [
      "Null hypothesis accepted\n"
     ]
    }
   ],
   "source": [
    "check_ztest(z_test, z_critical)"
   ]
  },
  {
   "cell_type": "markdown",
   "metadata": {},
   "source": [
    "###### Here, H0: mu > 52 is accepted i.e., bookstore's claim is false"
   ]
  },
  {
   "cell_type": "markdown",
   "metadata": {},
   "source": [
    "###### Problem Statement 3:\n",
    "A certain chemical pollutant in the Genesee River has been constant for several\n",
    "years with mean μ = 34 ppm (parts per million) and standard deviation σ = 8 ppm. A\n",
    "group of factory representatives whose companies discharge liquids into the river is\n",
    "now claiming that they have lowered the average with improved filtration devices. A\n",
    "group of environmentalists will test to see if this is true at the 1% level of\n",
    "significance. Assume \\ that their sample of size 50 gives a mean of 32.5 ppm.\n",
    "Perform a hypothesis test at the 1% level of significance and state your decision."
   ]
  },
  {
   "cell_type": "code",
   "execution_count": 60,
   "metadata": {},
   "outputs": [],
   "source": [
    "mu= 34\n",
    "std= 8\n",
    "\n",
    "alpha= 0.01\n",
    "n= 50\n",
    "x= 32.5"
   ]
  },
  {
   "cell_type": "markdown",
   "metadata": {},
   "source": [
    "###### Hypothesis\n",
    "1. H0: mu > 34\n",
    "2. H1: mu <= 34\n",
    "3. condition is of one-tail test"
   ]
  },
  {
   "cell_type": "code",
   "execution_count": 61,
   "metadata": {},
   "outputs": [
    {
     "data": {
      "text/plain": [
       "-1.3258252147247767"
      ]
     },
     "execution_count": 61,
     "metadata": {},
     "output_type": "execute_result"
    }
   ],
   "source": [
    "z_test= test_z(std,n,mu,x)\n",
    "z_test"
   ]
  },
  {
   "cell_type": "code",
   "execution_count": 62,
   "metadata": {},
   "outputs": [
    {
     "data": {
      "text/plain": [
       "-2.3263478740408408"
      ]
     },
     "execution_count": 62,
     "metadata": {},
     "output_type": "execute_result"
    }
   ],
   "source": [
    "z_critical= stats.norm.ppf(alpha)\n",
    "z_critical"
   ]
  },
  {
   "cell_type": "code",
   "execution_count": 63,
   "metadata": {},
   "outputs": [
    {
     "name": "stdout",
     "output_type": "stream",
     "text": [
      "Null hypothesis accepted\n"
     ]
    }
   ],
   "source": [
    "check_ztest(z_test, z_critical)"
   ]
  },
  {
   "cell_type": "markdown",
   "metadata": {},
   "source": [
    "In this case, alternate hypothesis is accepted i.e., mu<=34. Therefore, the claim of company's claim is true and they have lowerd the average of chemical pollutant."
   ]
  },
  {
   "cell_type": "markdown",
   "metadata": {},
   "source": [
    "###### Problem Statement 4:\n",
    "Based on population figures and other general information on the U.S. population,\n",
    "suppose it has been estimated that, on average, a family of four in the U.S. spends\n",
    "about $1135 annually on dental expenditures. Suppose further that a regional dental\n",
    "association wants to test to determine if this figure is accurate for their area of\n",
    "country. To test this, 22 families of 4 are randomly selected from the population in\n",
    "that area of the country and a log is kept of the family’s dental expenditure for one\n",
    "year. The resulting data are given below. Assuming, that dental expenditure is\n",
    "normally distributed in the population, use the data and an alpha of 0.5 to test the\n",
    "dental association’s hypothesis.\n",
    "\n",
    "1008, 812, 1117, 1323, 1308, 1415, 831, 1021, 1287, 851, 930, 730, 699,\n",
    "872, 913, 944, 954, 987, 1695, 995, 1003, 994"
   ]
  },
  {
   "cell_type": "code",
   "execution_count": 64,
   "metadata": {},
   "outputs": [],
   "source": [
    "import math\n",
    "mu= 1135\n",
    "\n",
    "data= [1008, 812, 1117, 1323, 1308, 1415, 831, 1021, 1287, 851, 930, 730, 699, \n",
    "      872, 913, 944, 954, 987, 1695, 995, 1003, 994]\n",
    "\n",
    "x= np.mean(data)\n",
    "std= np.std(data)"
   ]
  },
  {
   "cell_type": "code",
   "execution_count": 65,
   "metadata": {},
   "outputs": [
    {
     "name": "stdout",
     "output_type": "stream",
     "text": [
      "1031.3181818181818 234.84799462314425\n"
     ]
    }
   ],
   "source": [
    "print(x, std)"
   ]
  },
  {
   "cell_type": "code",
   "execution_count": 66,
   "metadata": {},
   "outputs": [],
   "source": [
    "n= len(data)\n",
    "alpha= 0.5"
   ]
  },
  {
   "cell_type": "markdown",
   "metadata": {},
   "source": [
    "###### t_test to be performed as sample data is very less (<30)"
   ]
  },
  {
   "cell_type": "code",
   "execution_count": 67,
   "metadata": {},
   "outputs": [],
   "source": [
    "data= np.sort(data)"
   ]
  },
  {
   "cell_type": "markdown",
   "metadata": {},
   "source": [
    "###### Hypothesis\n",
    "1. H0: mu = 1135\n",
    "2. H1: mu ≠ 1135\n",
    "3. condition is of two-tailed test"
   ]
  },
  {
   "cell_type": "code",
   "execution_count": 68,
   "metadata": {},
   "outputs": [],
   "source": [
    "# t_test\n",
    "def test_t(std,n,mu,x):\n",
    "    se= std/np.sqrt(n)\n",
    "    t= (x-mu)/se\n",
    "    return t"
   ]
  },
  {
   "cell_type": "code",
   "execution_count": 69,
   "metadata": {},
   "outputs": [
    {
     "data": {
      "text/plain": [
       "-2.070747228595759"
      ]
     },
     "execution_count": 69,
     "metadata": {},
     "output_type": "execute_result"
    }
   ],
   "source": [
    "t_test= test_t(std,n,mu,x)\n",
    "t_test"
   ]
  },
  {
   "cell_type": "code",
   "execution_count": 70,
   "metadata": {
    "scrolled": true
   },
   "outputs": [
    {
     "data": {
      "text/plain": [
       "-0.6863519891164291"
      ]
     },
     "execution_count": 70,
     "metadata": {},
     "output_type": "execute_result"
    }
   ],
   "source": [
    "# two tailed test ie alpha= alpha/2\n",
    "t_critical= stats.t.ppf(alpha/2, n-1)\n",
    "t_critical"
   ]
  },
  {
   "cell_type": "code",
   "execution_count": 71,
   "metadata": {},
   "outputs": [],
   "source": [
    "## check t test\n",
    "def check_ttest(t_test, t_critical):\n",
    "    if t_test>t_critical:\n",
    "        print(\"Null hypothesis accepted\")\n",
    "    else:\n",
    "        print(\"Null hupothesis rejected\")"
   ]
  },
  {
   "cell_type": "code",
   "execution_count": 72,
   "metadata": {},
   "outputs": [
    {
     "name": "stdout",
     "output_type": "stream",
     "text": [
      "Null hupothesis rejected\n"
     ]
    }
   ],
   "source": [
    "check_ttest(t_test, t_critical)"
   ]
  },
  {
   "cell_type": "markdown",
   "metadata": {},
   "source": [
    "###### Alternate hypothesis is accepted.\n",
    "i.e., average spend is less than the estimate value of 1135."
   ]
  },
  {
   "cell_type": "markdown",
   "metadata": {},
   "source": [
    "###### Problem Statement 5:\n",
    "In a report prepared by the Economic Research Department of a major bank the Department manager maintains that the average annual family income on Metropolis is $48,432. What do you conclude about the validity of the report if a random sample\n",
    "of 400 families shows and average income of $48,574 with a standard deviation of 2000?"
   ]
  },
  {
   "cell_type": "code",
   "execution_count": 73,
   "metadata": {},
   "outputs": [],
   "source": [
    "mu= 48432\n",
    "x= 48574\n",
    "std= 2000\n",
    "n= 400\n",
    "# considering alpha at 5%\n",
    "alpha= 0.05"
   ]
  },
  {
   "cell_type": "markdown",
   "metadata": {},
   "source": [
    "###### Hypothesis\n",
    "1. H0: mu > 48432\n",
    "2. H1: mu <= 48432\n",
    "3. condition is of one-tailed test"
   ]
  },
  {
   "cell_type": "code",
   "execution_count": 74,
   "metadata": {},
   "outputs": [
    {
     "data": {
      "text/plain": [
       "1.42"
      ]
     },
     "execution_count": 74,
     "metadata": {},
     "output_type": "execute_result"
    }
   ],
   "source": [
    "## performing t-test\n",
    "z_test= test_z(std,n,mu,x)\n",
    "z_test"
   ]
  },
  {
   "cell_type": "code",
   "execution_count": 75,
   "metadata": {},
   "outputs": [
    {
     "data": {
      "text/plain": [
       "-1.6448536269514729"
      ]
     },
     "execution_count": 75,
     "metadata": {},
     "output_type": "execute_result"
    }
   ],
   "source": [
    "z_critical= stats.norm.ppf(alpha)\n",
    "z_critical"
   ]
  },
  {
   "cell_type": "code",
   "execution_count": 76,
   "metadata": {},
   "outputs": [
    {
     "name": "stdout",
     "output_type": "stream",
     "text": [
      "Null hypothesis accepted\n"
     ]
    }
   ],
   "source": [
    "# checking hypothesis\n",
    "check_ztest(z_test, z_critical)"
   ]
  },
  {
   "cell_type": "markdown",
   "metadata": {},
   "source": [
    "###### Null hypotheis is accepted i.e, average income of families is more than 48432."
   ]
  },
  {
   "cell_type": "markdown",
   "metadata": {},
   "source": [
    "###### Problem Statement 6:\n",
    "Suppose that in past years the average price per square foot for warehouses in the\n",
    "United States has been $32.28. A national real estate investor wants to determine\n",
    "whether that figure has changed now. The investor hires a researcher who randomly\n",
    "samples 19 warehouses that are for sale across the United States and finds that the\n",
    "mean price per square foot is $31.67, with a standard deviation of $1.29. assume\n",
    "that the prices of warehouse footage are normally distributed in population. If the\n",
    "researcher uses a 5% level of significance, what statistical conclusion can be\n",
    "reached? What are the hypotheses?"
   ]
  },
  {
   "cell_type": "code",
   "execution_count": 77,
   "metadata": {},
   "outputs": [],
   "source": [
    "mu= 32.28\n",
    "\n",
    "n=19\n",
    "x= 31.67\n",
    "std= 1.29\n",
    "alpha= 0.05 ##(5%)"
   ]
  },
  {
   "cell_type": "markdown",
   "metadata": {},
   "source": [
    "###### Hypothesis\n",
    "1. H0: mu > 32.28\n",
    "2. H1: mu <= 32.28\n",
    "3. condition is of one-tailed test"
   ]
  },
  {
   "cell_type": "code",
   "execution_count": 78,
   "metadata": {},
   "outputs": [
    {
     "data": {
      "text/plain": [
       "-2.06118477175179"
      ]
     },
     "execution_count": 78,
     "metadata": {},
     "output_type": "execute_result"
    }
   ],
   "source": [
    "z_test= test_z(std,n,mu,x)\n",
    "z_test"
   ]
  },
  {
   "cell_type": "code",
   "execution_count": 79,
   "metadata": {},
   "outputs": [
    {
     "data": {
      "text/plain": [
       "-1.6448536269514729"
      ]
     },
     "execution_count": 79,
     "metadata": {},
     "output_type": "execute_result"
    }
   ],
   "source": [
    "z_critical= stats.norm.ppf(alpha)\n",
    "z_critical"
   ]
  },
  {
   "cell_type": "code",
   "execution_count": 80,
   "metadata": {},
   "outputs": [
    {
     "name": "stdout",
     "output_type": "stream",
     "text": [
      "Null hupothesis rejected\n"
     ]
    }
   ],
   "source": [
    "check_ztest(z_test, z_critical)"
   ]
  },
  {
   "cell_type": "markdown",
   "metadata": {},
   "source": [
    "###### Null hypothesis is rejected i.e., per square foot price has reduced over the years."
   ]
  },
  {
   "cell_type": "markdown",
   "metadata": {},
   "source": [
    "###### Problem Statement 8:\n",
    "Find the t-score for a sample size of 16 taken from a population with mean 10 when\n",
    "the sample mean is 12 and the sample standard deviation is 1.5."
   ]
  },
  {
   "cell_type": "code",
   "execution_count": 81,
   "metadata": {},
   "outputs": [
    {
     "name": "stdout",
     "output_type": "stream",
     "text": [
      "t_score = 5.333333333333333\n"
     ]
    }
   ],
   "source": [
    "n= 16\n",
    "mu= 10\n",
    "x= 12\n",
    "std= 1.5\n",
    "t_score= test_t(std,n,mu,x)\n",
    "print(\"t_score = {}\".format(t_score))"
   ]
  },
  {
   "cell_type": "markdown",
   "metadata": {},
   "source": [
    "###### Problem Statement 9:\n",
    "Find the t-score below which we can expect 99% of sample means will fall if samples\n",
    "of size 16 are taken from a normally distributed population."
   ]
  },
  {
   "cell_type": "code",
   "execution_count": 82,
   "metadata": {},
   "outputs": [
    {
     "data": {
      "text/plain": [
       "-2.602480294995493"
      ]
     },
     "execution_count": 82,
     "metadata": {},
     "output_type": "execute_result"
    }
   ],
   "source": [
    "n= 16\n",
    "df= n-1\n",
    "p= 0.99 ##(99%)\n",
    "alpha= 1-p\n",
    "# t_score= stats.t.ppf(p, df)\n",
    "t_score= stats.t.ppf(alpha, df)\n",
    "t_score"
   ]
  },
  {
   "cell_type": "markdown",
   "metadata": {},
   "source": [
    "###### Problem Statement 10:\n",
    "If a random sample of size 25 drawn from a normal population gives a mean of 60\n",
    "and a standard deviation of 4, find the range of t-scores where we can expect to find\n",
    "the middle 95% of all sample means. Compute the probability that (−𝑡0.05 <𝑡<𝑡0.10)."
   ]
  },
  {
   "cell_type": "code",
   "execution_count": 83,
   "metadata": {},
   "outputs": [],
   "source": [
    "n= 25\n",
    "df= n-1\n",
    "x= 60\n",
    "std= 4\n",
    "alpha= 0.05\n",
    "t_score= stats.t.ppf(alpha, df)\n",
    "se= std/np.sqrt(n)"
   ]
  },
  {
   "cell_type": "code",
   "execution_count": 84,
   "metadata": {},
   "outputs": [],
   "source": [
    "def compute(std,x,mu,n):\n",
    "    ll= x - t_score*se\n",
    "    hl= x + t_score*se\n",
    "    ls= (x- ll)/se\n",
    "    hs= (x- hl)/se\n",
    "    return ls,hs"
   ]
  },
  {
   "cell_type": "code",
   "execution_count": 85,
   "metadata": {},
   "outputs": [
    {
     "name": "stdout",
     "output_type": "stream",
     "text": [
      "Range of t-scores where except the middle 95% 0f all sample means is (-1.7108820799094282, 1.7108820799094282)\n"
     ]
    }
   ],
   "source": [
    "print(\"Range of t-scores where except the middle 95% 0f all sample means is {}\".format(compute(std,x,mu,x)))"
   ]
  },
  {
   "cell_type": "code",
   "execution_count": 86,
   "metadata": {},
   "outputs": [
    {
     "data": {
      "text/plain": [
       "(-1.7108820799094282, -1.3178359318596027)"
      ]
     },
     "execution_count": 86,
     "metadata": {},
     "output_type": "execute_result"
    }
   ],
   "source": [
    "## t0.05 < t < t0.10\n",
    "## t1= t0.05\n",
    "## t1= t0.10\n",
    "\n",
    "t1= stats.t.ppf(0.05, n-1)\n",
    "t2= stats.t.ppf(0.10, n-1)\n",
    "t1, t2"
   ]
  },
  {
   "cell_type": "code",
   "execution_count": 87,
   "metadata": {},
   "outputs": [
    {
     "data": {
      "text/plain": [
       "nan"
      ]
     },
     "execution_count": 87,
     "metadata": {},
     "output_type": "execute_result"
    }
   ],
   "source": [
    "## probability of t0.05 < t < t0.10\n",
    "## P(1.71088 < t < -1.31783)\n",
    "\n",
    "stats.t.ppf(1.71088, n-1)\n",
    "# print(\"P(t0.05 < t < t0.10)= {}\".format())"
   ]
  },
  {
   "cell_type": "markdown",
   "metadata": {},
   "source": [
    "###### Problem Statement 11:\n",
    "Two-tailed test for difference between two population means\n",
    "Is there evidence to conclude that the number of people travelling from Bangalore to\n",
    "Chennai is different from the number of people travelling from Bangalore to Hosur in\n",
    "a week, given the following:\n",
    "Population 1: Bangalore to Chennai n1 = 1200\n",
    "x1 = 452\n",
    "s1 = 212\n",
    "Population 2: Bangalore to Hosur n2 = 800\n",
    "x2 = 523\n",
    "s2 = 185"
   ]
  },
  {
   "cell_type": "code",
   "execution_count": 88,
   "metadata": {},
   "outputs": [],
   "source": [
    "n1= 1200\n",
    "x1= 452\n",
    "std1= 212\n",
    "\n",
    "n2= 800\n",
    "x2= 523\n",
    "std2= 185"
   ]
  },
  {
   "cell_type": "markdown",
   "metadata": {},
   "source": [
    "###### Hypothesis\n",
    "1. H0: x1=x2\n",
    "1. H0: x1≠x2\n",
    "3. condition of 2 tail test"
   ]
  },
  {
   "cell_type": "code",
   "execution_count": 89,
   "metadata": {},
   "outputs": [],
   "source": [
    "def ztest(x1,x2,std1,std2,n1,n2):\n",
    "    se = np.sqrt(std1**2/n1 + std2**2/n2)\n",
    "    z_score= (x1-x2)/se\n",
    "    return z_score"
   ]
  },
  {
   "cell_type": "code",
   "execution_count": 90,
   "metadata": {},
   "outputs": [
    {
     "data": {
      "text/plain": [
       "-7.926428526759299"
      ]
     },
     "execution_count": 90,
     "metadata": {},
     "output_type": "execute_result"
    }
   ],
   "source": [
    "z_value= ztest(x1,x2,std1,std2,n1,n2)\n",
    "z_value"
   ]
  },
  {
   "cell_type": "code",
   "execution_count": 91,
   "metadata": {},
   "outputs": [
    {
     "data": {
      "text/plain": [
       "-1.9599639845400545"
      ]
     },
     "execution_count": 91,
     "metadata": {},
     "output_type": "execute_result"
    }
   ],
   "source": [
    "## alpha= alpha/2 as two tail test\n",
    "alpha=0.05\n",
    "z_critical= stats.norm.ppf(alpha/2)\n",
    "z_critical"
   ]
  },
  {
   "cell_type": "code",
   "execution_count": 92,
   "metadata": {},
   "outputs": [],
   "source": [
    "def check_zmean(z_value,z_critical):\n",
    "    if -z_critical < z_value < z_critical:\n",
    "        print(\"Hypothesis accepted\")\n",
    "    else:\n",
    "        print(\"Hypothesis rejected\")"
   ]
  },
  {
   "cell_type": "code",
   "execution_count": 93,
   "metadata": {},
   "outputs": [
    {
     "name": "stdout",
     "output_type": "stream",
     "text": [
      "Hypothesis rejected\n"
     ]
    }
   ],
   "source": [
    "check_zmean(z_value,z_critical)"
   ]
  },
  {
   "cell_type": "markdown",
   "metadata": {},
   "source": [
    "alternate hypothesis is accepted therefore, the number of people travelling from Bangalore to Chennai is different from the number of people travelling from Bangalore to Hosur in\n",
    "a week."
   ]
  },
  {
   "cell_type": "markdown",
   "metadata": {},
   "source": [
    "###### Problem Statement 12:\n",
    "Is there evidence to conclude that the number of people preferring Duracell battery is\n",
    "different from the number of people preferring Energizer battery, given the following:\n",
    "Population 1: Duracell\n",
    "n1 = 100\n",
    "x1 = 308\n",
    "s1 = 84\n",
    "Population 2: Energizer\n",
    "n2 = 100\n",
    "x2 = 254\n",
    "s2 = 67"
   ]
  },
  {
   "cell_type": "code",
   "execution_count": 94,
   "metadata": {},
   "outputs": [],
   "source": [
    "n1 = 100\n",
    "x1 = 308\n",
    "std1 = 84\n",
    "\n",
    "n2 = 100\n",
    "x2 = 254\n",
    "std2 = 67"
   ]
  },
  {
   "cell_type": "markdown",
   "metadata": {},
   "source": [
    "###### Hypothesis\n",
    "1. H0: x1=x2\n",
    "1. H0: x1≠x2\n",
    "3. condition of 2 tail test"
   ]
  },
  {
   "cell_type": "code",
   "execution_count": 95,
   "metadata": {},
   "outputs": [
    {
     "data": {
      "text/plain": [
       "5.025702668336442"
      ]
     },
     "execution_count": 95,
     "metadata": {},
     "output_type": "execute_result"
    }
   ],
   "source": [
    "z_value= ztest(x1,x2,std1,std2,n1,n2)\n",
    "z_value"
   ]
  },
  {
   "cell_type": "code",
   "execution_count": 96,
   "metadata": {},
   "outputs": [
    {
     "data": {
      "text/plain": [
       "-1.9599639845400545"
      ]
     },
     "execution_count": 96,
     "metadata": {},
     "output_type": "execute_result"
    }
   ],
   "source": [
    "z_critical= stats.norm.ppf(0.05/2)\n",
    "z_critical"
   ]
  },
  {
   "cell_type": "code",
   "execution_count": 98,
   "metadata": {},
   "outputs": [
    {
     "name": "stdout",
     "output_type": "stream",
     "text": [
      "Hypothesis rejected\n"
     ]
    }
   ],
   "source": [
    "check_zmean(z_value,z_critical)"
   ]
  },
  {
   "cell_type": "markdown",
   "metadata": {},
   "source": [
    "alternate hypothesis is accepted i.e, the number of people preferring Duracell battery is different from the number of people preferring Energizer battery"
   ]
  },
  {
   "cell_type": "markdown",
   "metadata": {},
   "source": [
    "###### Problem Statement 13:\n",
    "Pooled estimate of the population variance\n",
    "Does the data provide sufficient evidence to conclude that average percentage\n",
    "increase in the price of sugar differs when it is sold at two different prices?\n",
    "Population 1: Price of sugar = Rs. 27.50 n1 = 14\n",
    "x1 = 0.317%\n",
    "s1 = 0.12%\n",
    "Population 2: Price of sugar = Rs. 20.00 n2 = 9\n",
    "x2 = 0.21%\n",
    "s2 = 0.11%"
   ]
  },
  {
   "cell_type": "code",
   "execution_count": 99,
   "metadata": {},
   "outputs": [],
   "source": [
    "n1 = 14\n",
    "x1 = 0.317\n",
    "s1 = 0.12\n",
    "\n",
    "n2 = 9\n",
    "x2 = 0.21\n",
    "s2 = 0.11"
   ]
  },
  {
   "cell_type": "markdown",
   "metadata": {},
   "source": [
    "###### Hypothesis\n",
    "1. H0: x1=x2\n",
    "1. H1: x1≠x2\n",
    "3. condition of 2 tail test"
   ]
  },
  {
   "cell_type": "code",
   "execution_count": 100,
   "metadata": {},
   "outputs": [],
   "source": [
    "def ttest(x1,x2,s1,s2,n1,n2):\n",
    "    ##(n1-1)*(s1**2)+(n2-1)*(s2**2)\n",
    "    s_d = ((n1-1)*(s1**2)+(n2-1)*(s2**2)) / (n1+n2-2)\n",
    "    se = math.sqrt(s_d*((1/n1) + (1/n2)))\n",
    "    t_value = (x1-x2)/se\n",
    "    return t_value"
   ]
  },
  {
   "cell_type": "code",
   "execution_count": 101,
   "metadata": {},
   "outputs": [
    {
     "data": {
      "text/plain": [
       "2.15355322387416"
      ]
     },
     "execution_count": 101,
     "metadata": {},
     "output_type": "execute_result"
    }
   ],
   "source": [
    "t_score= ttest(x1,x2,s1,s2,n1,n2)\n",
    "t_score"
   ]
  },
  {
   "cell_type": "code",
   "execution_count": 102,
   "metadata": {},
   "outputs": [
    {
     "data": {
      "text/plain": [
       "-2.0796138447276626"
      ]
     },
     "execution_count": 102,
     "metadata": {},
     "output_type": "execute_result"
    }
   ],
   "source": [
    "alpha= 0.05\n",
    "df= n1+n2-2\n",
    "t_critical= stats.t.ppf(alpha/2, df)\n",
    "t_critical"
   ]
  },
  {
   "cell_type": "code",
   "execution_count": 107,
   "metadata": {},
   "outputs": [],
   "source": [
    "def check_tmean(t_score,t_critical):\n",
    "    if -t_critical < t_score < t_critical:\n",
    "        print(\"Null Hypothesis accepted\")\n",
    "    else:\n",
    "        print(\"Null Hypothesis rejected\")"
   ]
  },
  {
   "cell_type": "code",
   "execution_count": 108,
   "metadata": {},
   "outputs": [
    {
     "name": "stdout",
     "output_type": "stream",
     "text": [
      "Null Hypothesis rejected\n"
     ]
    }
   ],
   "source": [
    "check_tmean(t_score,t_critical)"
   ]
  },
  {
   "cell_type": "markdown",
   "metadata": {},
   "source": [
    "###### alternate hypthesis is accepted\n",
    "ie., average percentage increase in the price of sugar differs when it is sold at two different prices"
   ]
  },
  {
   "cell_type": "markdown",
   "metadata": {},
   "source": [
    "###### Problem Statement 14:\n",
    "The manufacturers of compact disk players want to test whether a small price\n",
    "reduction is enough to increase sales of their product. Is there evidence that the\n",
    "small price reduction is enough to increase sales of compact disk players?\n",
    "Population 1: Before reduction\n",
    "n1 = 15\n",
    "x1 = Rs. 6598 s1 = Rs. 844\n",
    "Population 2: After reduction n2 = 12\n",
    "x2 = RS. 6870\n",
    "s2 = Rs. 669"
   ]
  },
  {
   "cell_type": "code",
   "execution_count": 109,
   "metadata": {},
   "outputs": [],
   "source": [
    "n1 = 15\n",
    "x1 = 6598 \n",
    "s1 = 844\n",
    "\n",
    "n2 = 12\n",
    "x2 = 6870\n",
    "s2 = 669"
   ]
  },
  {
   "cell_type": "markdown",
   "metadata": {},
   "source": [
    "###### Hypothesis\n",
    "1. H0: x1=x2\n",
    "1. H1: x1≠x2\n",
    "3. condition of 2 tail test"
   ]
  },
  {
   "cell_type": "code",
   "execution_count": 110,
   "metadata": {},
   "outputs": [
    {
     "data": {
      "text/plain": [
       "-0.9098300343990461"
      ]
     },
     "execution_count": 110,
     "metadata": {},
     "output_type": "execute_result"
    }
   ],
   "source": [
    "t_value= ttest(x1, x2, s1, s2, n1, n2)\n",
    "t_value"
   ]
  },
  {
   "cell_type": "code",
   "execution_count": 111,
   "metadata": {},
   "outputs": [
    {
     "data": {
      "text/plain": [
       "-2.0595385527532946"
      ]
     },
     "execution_count": 111,
     "metadata": {},
     "output_type": "execute_result"
    }
   ],
   "source": [
    "alpha= 0.05/2\n",
    "df= n1+n2-2\n",
    "t_critical= stats.t.ppf(alpha, df)\n",
    "t_critical"
   ]
  },
  {
   "cell_type": "code",
   "execution_count": 112,
   "metadata": {},
   "outputs": [
    {
     "name": "stdout",
     "output_type": "stream",
     "text": [
      "Null Hypothesis rejected\n"
     ]
    }
   ],
   "source": [
    "check_tmean(t_score, t_critical)"
   ]
  },
  {
   "cell_type": "markdown",
   "metadata": {},
   "source": [
    "###### Alternate hypothesis is accepted \n",
    "ie., the small price reduction is enough to increase sales of compact disk players"
   ]
  },
  {
   "cell_type": "markdown",
   "metadata": {},
   "source": [
    "###### Problem Statement 15:\n",
    "Comparisons of two population proportions when the hypothesized difference is zero\n",
    "Carry out a two-tailed test of the equality of banks’ share of the car loan market in\n",
    "1980 and 1995.\n",
    "Population 1: 1980\n",
    "n1 = 1000\n",
    "x1 = 53\n",
    "𝑝 1 = 0.53\n",
    "Population 2: 1985\n",
    "n2 = 100\n",
    "x2 = 43\n",
    "𝑝 2= 0.53"
   ]
  },
  {
   "cell_type": "code",
   "execution_count": 113,
   "metadata": {},
   "outputs": [],
   "source": [
    "n1 = 100\n",
    "x1 = 53\n",
    "p1 = 0.53\n",
    "\n",
    "n2 = 100\n",
    "x2 = 43\n",
    "p2= 0.43"
   ]
  },
  {
   "cell_type": "markdown",
   "metadata": {},
   "source": [
    "###### Hypothesis\n",
    "1. H0: p1-p2= 0\n",
    "1. H1: p1-p2≠ 0\n",
    "3. condition of 2 tail test"
   ]
  },
  {
   "cell_type": "code",
   "execution_count": 116,
   "metadata": {},
   "outputs": [
    {
     "data": {
      "text/plain": [
       "1.4153462926807452"
      ]
     },
     "execution_count": 116,
     "metadata": {},
     "output_type": "execute_result"
    }
   ],
   "source": [
    "p= (x1+x2)/(n1+n2)\n",
    "\n",
    "a= (p1 - p2)\n",
    "b= np.sqrt(p*(1-p)*(1/n1 + 1/n2))\n",
    "z_value= a/b\n",
    "z_value"
   ]
  },
  {
   "cell_type": "code",
   "execution_count": 117,
   "metadata": {},
   "outputs": [
    {
     "data": {
      "text/plain": [
       "1.1503493803760079"
      ]
     },
     "execution_count": 117,
     "metadata": {},
     "output_type": "execute_result"
    }
   ],
   "source": [
    "alpha= 0.5/2\n",
    "p= 1 - alpha/2\n",
    "z_critical= stats.norm.ppf(p)\n",
    "z_critical"
   ]
  },
  {
   "cell_type": "code",
   "execution_count": 118,
   "metadata": {},
   "outputs": [
    {
     "name": "stdout",
     "output_type": "stream",
     "text": [
      "Null hypothesis accepted\n"
     ]
    }
   ],
   "source": [
    "if z_value> z_critical:\n",
    "    print(\"Null hypothesis accepted\")\n",
    "else: \n",
    "    print(\"Null hypothesis rejected\")"
   ]
  },
  {
   "cell_type": "markdown",
   "metadata": {},
   "source": [
    "There is equality of banks’ share of the car loan market in 1980 and 1995 "
   ]
  },
  {
   "cell_type": "markdown",
   "metadata": {},
   "source": [
    "###### Problem Statement 16:\n",
    "Carry out a one-tailed test to determine whether the population proportion of\n",
    "traveler’s check buyers who buy at least $2500 in checks when sweepstakes prizes\n",
    "are offered as at least 10% higher than the proportion of such buyers when no\n",
    "sweepstakes are on.\n",
    "Population 1: With sweepstakes\n",
    "n1 = 300\n",
    "x1 = 120\n",
    "𝑝 = 0.40\n",
    "Population 2: No sweepstakes n2 = 700\n",
    "x2 = 140\n",
    "𝑝 2= 0.20"
   ]
  },
  {
   "cell_type": "code",
   "execution_count": 119,
   "metadata": {},
   "outputs": [],
   "source": [
    "n1 = 300\n",
    "x1 = 120\n",
    "p1 = 0.40\n",
    "\n",
    "n2 = 700\n",
    "x2 = 140\n",
    "p2= 0.20\n",
    "\n",
    "D=0.1"
   ]
  },
  {
   "cell_type": "markdown",
   "metadata": {},
   "source": [
    "###### Hypothesis\n",
    "1. H0: p1-p2 > 0.1\n",
    "1. H1: p1-p2 <= 0.1\n",
    "3. condition of one tail test"
   ]
  },
  {
   "cell_type": "code",
   "execution_count": 120,
   "metadata": {},
   "outputs": [],
   "source": [
    "def ztest(p1,p2,n1,n2,D):\n",
    "    a= (p1 - p2)- D\n",
    "    b= np.sqrt(p1*(1-p1)/n1 +p2*(1-p2)/n2)\n",
    "    z_value= a/b\n",
    "    return z_value\n"
   ]
  },
  {
   "cell_type": "code",
   "execution_count": 121,
   "metadata": {},
   "outputs": [
    {
     "data": {
      "text/plain": [
       "3.1180478223116177"
      ]
     },
     "execution_count": 121,
     "metadata": {},
     "output_type": "execute_result"
    }
   ],
   "source": [
    "z_value= ztest(p1,p2,n1,n2,D)\n",
    "z_value"
   ]
  },
  {
   "cell_type": "code",
   "execution_count": 122,
   "metadata": {},
   "outputs": [
    {
     "data": {
      "text/plain": [
       "-2.3263478740408408"
      ]
     },
     "execution_count": 122,
     "metadata": {},
     "output_type": "execute_result"
    }
   ],
   "source": [
    "## one tail\n",
    "alpha= 0.01\n",
    "z_critical= stats.norm.ppf(alpha)\n",
    "z_critical"
   ]
  },
  {
   "cell_type": "code",
   "execution_count": 123,
   "metadata": {},
   "outputs": [
    {
     "name": "stdout",
     "output_type": "stream",
     "text": [
      "Null hypothesis accepted ie., p1-p2> 0.1\n"
     ]
    }
   ],
   "source": [
    "if z_value> z_critical:\n",
    "    print(\"Null hypothesis accepted ie., p1-p2> 0.1\")\n",
    "else: \n",
    "    print(\"Null hypothesis rejected ie., p1-p2<= 0.1\")"
   ]
  },
  {
   "cell_type": "markdown",
   "metadata": {},
   "source": [
    "###### Problem Statement 17:\n",
    "A die is thrown 132 times with the following results: Number turned up: 1, 2, 3, 4, 5, 6\n",
    "Frequency: 16, 20, 25, 14, 29, 28\n",
    "Is the die unbiased? Consider the degrees of freedom as 𝑝 − 1."
   ]
  },
  {
   "cell_type": "code",
   "execution_count": 124,
   "metadata": {},
   "outputs": [
    {
     "data": {
      "text/plain": [
       "[22.0, 22.0, 22.0, 22.0, 22.0, 22.0]"
      ]
     },
     "execution_count": 124,
     "metadata": {},
     "output_type": "execute_result"
    }
   ],
   "source": [
    "n= 132\n",
    "n_nos= [1,2,3,4,5,6]\n",
    "O= [16,20,25,14,29,28]\n",
    "E_value= n/len(n_nos)\n",
    "E= [E_value for _ in range(len(n_nos))]\n",
    "E"
   ]
  },
  {
   "cell_type": "markdown",
   "metadata": {},
   "source": [
    "###### Hypothesis\n",
    "1. H0: O-E = 0\n",
    "1. H1: O-E ≠ 0\n",
    "3. condition of one tail test"
   ]
  },
  {
   "cell_type": "code",
   "execution_count": 125,
   "metadata": {},
   "outputs": [],
   "source": [
    "def chisquare(O,E):\n",
    "    value=0\n",
    "    for i in range(len(O)):\n",
    "        value += ((O[i]-E[i])**2)/E[i]\n",
    "    return value"
   ]
  },
  {
   "cell_type": "code",
   "execution_count": 126,
   "metadata": {},
   "outputs": [
    {
     "data": {
      "text/plain": [
       "9.0"
      ]
     },
     "execution_count": 126,
     "metadata": {},
     "output_type": "execute_result"
    }
   ],
   "source": [
    "chi_value= chisquare(O,E)\n",
    "chi_value"
   ]
  },
  {
   "cell_type": "code",
   "execution_count": 127,
   "metadata": {},
   "outputs": [
    {
     "data": {
      "text/plain": [
       "11.070497693516351"
      ]
     },
     "execution_count": 127,
     "metadata": {},
     "output_type": "execute_result"
    }
   ],
   "source": [
    "alpha= 0.05\n",
    "p= 1-alpha ## one tail\n",
    "df= len(O)-1\n",
    "chi_critical= stats.chi2.ppf(p, df)\n",
    "chi_critical"
   ]
  },
  {
   "cell_type": "code",
   "execution_count": 128,
   "metadata": {},
   "outputs": [
    {
     "name": "stdout",
     "output_type": "stream",
     "text": [
      "Null hypothesis accepted ie., dice is unbiased\n"
     ]
    }
   ],
   "source": [
    "if chi_critical>chi_value:\n",
    "    print(\"Null hypothesis accepted ie., dice is unbiased\")\n",
    "else:\n",
    "    print(\"Null hypothesis rejected ie., dice is biased\")"
   ]
  },
  {
   "cell_type": "markdown",
   "metadata": {},
   "source": [
    "###### Problem Statement 18:\n",
    "In a certain town, there are about one million eligible voters. A simple random\n",
    "sample of 10,000 eligible voters was chosen to study the relationship between\n",
    "gender and participation in the last election. The results are summarized in the  contingency table:\n",
    "We would want to check whether being a man or a woman (columns) is independent of\n",
    "having voted in the last election (rows). In other words, is “gender and voting independent”?"
   ]
  },
  {
   "cell_type": "code",
   "execution_count": 162,
   "metadata": {},
   "outputs": [],
   "source": [
    "# n=10000\n",
    "# v_t= 2792+3591\n",
    "# n_t= 1486+2131\n",
    "\n",
    "# m_t= 2792+1486\n",
    "# w_t= 3591+2131\n",
    "\n",
    "# ## men voted\n",
    "# E_mv= (v_t*m_t)/n\n",
    "# round(E_mv)\n",
    "\n",
    "# ## women voted\n",
    "# E_wv= (v_t*w_t)/n\n",
    "# round(E_wv)\n",
    "\n",
    "# ## men not voted\n",
    "# E_mnv= (n_t*m_t)/n\n",
    "# round(E_mnv)\n",
    "\n",
    "# ## women not voted\n",
    "# E_wnv= (n_t*w_t)/n\n",
    "# round(E_wnv)"
   ]
  },
  {
   "cell_type": "code",
   "execution_count": 181,
   "metadata": {},
   "outputs": [
    {
     "name": "stdout",
     "output_type": "stream",
     "text": [
      "df= 1 and chi_value= 6.552337973968181\n"
     ]
    }
   ],
   "source": [
    "O=[[2792,3591],[1486,2131]]\n",
    "chi_value, p, df, expected= stats.chi2_contingency(O)\n",
    "print(\"df= {} and chi_value= {}\".format(df,chi_value))"
   ]
  },
  {
   "cell_type": "markdown",
   "metadata": {},
   "source": [
    "###### Hypothesis:\n",
    "1. H0: Gender is independent of voting\n",
    "2. H0: Gender is dependent on voting"
   ]
  },
  {
   "cell_type": "code",
   "execution_count": 182,
   "metadata": {},
   "outputs": [
    {
     "data": {
      "text/plain": [
       "3.841458820694124"
      ]
     },
     "execution_count": 182,
     "metadata": {},
     "output_type": "execute_result"
    }
   ],
   "source": [
    "alpha= 0.05\n",
    "p= 1-0.05\n",
    "chi_critical= stats.chi2.ppf(p, df)\n",
    "chi_critical"
   ]
  },
  {
   "cell_type": "code",
   "execution_count": 200,
   "metadata": {},
   "outputs": [
    {
     "name": "stdout",
     "output_type": "stream",
     "text": [
      "Null hypothesis is rejected\n"
     ]
    }
   ],
   "source": [
    "if chi_value < chi_critical:\n",
    "    print(\"Null hypothesis is accepted\")\n",
    "else:\n",
    "    print(\"Null hypothesis is rejected\")"
   ]
  },
  {
   "cell_type": "markdown",
   "metadata": {},
   "source": [
    "###### Alternate hypothesis is accepted\n",
    "ie., gender and voting are dependent"
   ]
  },
  {
   "cell_type": "markdown",
   "metadata": {},
   "source": [
    "###### Problem Statement 19:\n",
    "A sample of 100 voters are asked which of four candidates they would vote for in an\n",
    "election.\n",
    "Do the data suggest that all candidates are equally popular? "
   ]
  },
  {
   "cell_type": "code",
   "execution_count": 184,
   "metadata": {},
   "outputs": [
    {
     "data": {
      "text/plain": [
       "[25.0, 25.0, 25.0, 25.0]"
      ]
     },
     "execution_count": 184,
     "metadata": {},
     "output_type": "execute_result"
    }
   ],
   "source": [
    "n= 100\n",
    "O= [41,19,24,16]\n",
    "\n",
    "E_value= n/len(O)\n",
    "E= [E_value for _ in range(len(O))]\n",
    "E"
   ]
  },
  {
   "cell_type": "markdown",
   "metadata": {},
   "source": [
    "###### Hypothesis:\n",
    "1. H0: candidates are equally popular\n",
    "2. H1: candidates are not equally popular"
   ]
  },
  {
   "cell_type": "code",
   "execution_count": 185,
   "metadata": {},
   "outputs": [
    {
     "data": {
      "text/plain": [
       "14.959999999999999"
      ]
     },
     "execution_count": 185,
     "metadata": {},
     "output_type": "execute_result"
    }
   ],
   "source": [
    "chi_value= chisquare(O,E)\n",
    "chi_value"
   ]
  },
  {
   "cell_type": "code",
   "execution_count": 191,
   "metadata": {},
   "outputs": [
    {
     "data": {
      "text/plain": [
       "7.814727903251179"
      ]
     },
     "execution_count": 191,
     "metadata": {},
     "output_type": "execute_result"
    }
   ],
   "source": [
    "df= len(O)-1\n",
    "alpha= 0.05\n",
    "p= 1-alpha\n",
    "chi_critical= stats.chi2.ppf(p, df)\n",
    "chi_critical"
   ]
  },
  {
   "cell_type": "code",
   "execution_count": 201,
   "metadata": {},
   "outputs": [
    {
     "name": "stdout",
     "output_type": "stream",
     "text": [
      "Null hypothesis is rejected\n"
     ]
    }
   ],
   "source": [
    "if chi_value < chi_critical:\n",
    "    print(\"Null hypothesis is accepted\")\n",
    "else:\n",
    "    print(\"Null hypothesis is rejected\")"
   ]
  },
  {
   "cell_type": "markdown",
   "metadata": {},
   "source": [
    "###### Alternate hypothesis is accepted\n",
    "ie., cadidates are not equally popular"
   ]
  },
  {
   "cell_type": "markdown",
   "metadata": {},
   "source": [
    "###### Problem Statement 20:\n",
    "Children of three ages are asked to indicate their preference for three photographs of\n",
    "adults. Do the data suggest that there is a significant relationship between age and\n",
    "photograph preference? What is wrong with this study?"
   ]
  },
  {
   "cell_type": "code",
   "execution_count": 207,
   "metadata": {},
   "outputs": [
    {
     "data": {
      "text/plain": [
       "[[18, 22, 20], [2, 28, 40], [20, 10, 40]]"
      ]
     },
     "execution_count": 207,
     "metadata": {},
     "output_type": "execute_result"
    }
   ],
   "source": [
    "O= [[18,22,20],[2,28,40],[20,10,40]]\n",
    "O"
   ]
  },
  {
   "cell_type": "markdown",
   "metadata": {},
   "source": [
    "###### Hypothesis\n",
    "1. H0: no significant relationship between age and photograph¶\n",
    "2. H1:significant relationship between age and photograph"
   ]
  },
  {
   "cell_type": "code",
   "execution_count": 208,
   "metadata": {},
   "outputs": [
    {
     "name": "stdout",
     "output_type": "stream",
     "text": [
      "df= 4 and chi_value= 29.603174603174608\n"
     ]
    }
   ],
   "source": [
    "chi_value, p, df, expected= stats.chi2_contingency(O)\n",
    "print(\"df= {} and chi_value= {}\".format(df, chi_value))"
   ]
  },
  {
   "cell_type": "code",
   "execution_count": 209,
   "metadata": {},
   "outputs": [
    {
     "data": {
      "text/plain": [
       "9.487729036781154"
      ]
     },
     "execution_count": 209,
     "metadata": {},
     "output_type": "execute_result"
    }
   ],
   "source": [
    "alpha = 0.05\n",
    "p = 1-0.05\n",
    "chi_critical = stats.chi2.ppf(p, df)\n",
    "chi_critical"
   ]
  },
  {
   "cell_type": "code",
   "execution_count": 210,
   "metadata": {},
   "outputs": [
    {
     "name": "stdout",
     "output_type": "stream",
     "text": [
      "Null hypothesis is rejected\n",
      "p: 0.95, alpha: 0.05\n",
      "Null hypothesis is accepted\n"
     ]
    }
   ],
   "source": [
    "if chi_value < chi_critical:\n",
    "    print(\"Null hypothesis is accepted\")\n",
    "else:\n",
    "    print(\"Null hypothesis is rejected\")\n",
    "\n",
    "print(\"p: {}, alpha: {}\".format(p,alpha))\n",
    "\n",
    "if p > alpha:\n",
    "    print(\"Null hypothesis is accepted\")\n",
    "else:\n",
    "    print(\"Null hypothesis is rejected\")"
   ]
  },
  {
   "cell_type": "markdown",
   "metadata": {},
   "source": [
    "###### Problem Statement 21:\n",
    "A study of conformity using the Asch paradigm involved two conditions: one where\n",
    "one confederate supported the true judgement and another where no confederate\n",
    "gave the correct response.\n",
    "Is there a significant difference between the \"support\" and \"no support\" conditions in the\n",
    "frequency with which individuals are likely to conform?"
   ]
  },
  {
   "cell_type": "code",
   "execution_count": 213,
   "metadata": {},
   "outputs": [
    {
     "data": {
      "text/plain": [
       "[[18, 40], [32, 10]]"
      ]
     },
     "execution_count": 213,
     "metadata": {},
     "output_type": "execute_result"
    }
   ],
   "source": [
    "O= [[18,40],[32,10]]\n",
    "O"
   ]
  },
  {
   "cell_type": "markdown",
   "metadata": {},
   "source": [
    "###### Hypothesis\n",
    "1. H0: no significant relationship between support and no support¶\n",
    "2. H1: significant relationship between support and no support"
   ]
  },
  {
   "cell_type": "code",
   "execution_count": 214,
   "metadata": {},
   "outputs": [
    {
     "name": "stdout",
     "output_type": "stream",
     "text": [
      "df= 1 and chi_value= 18.10344827586207\n"
     ]
    }
   ],
   "source": [
    "chi_value, p, df, expected= stats.chi2_contingency(O)\n",
    "print(\"df= {} and chi_value= {}\".format(df, chi_value))"
   ]
  },
  {
   "cell_type": "code",
   "execution_count": 215,
   "metadata": {},
   "outputs": [
    {
     "data": {
      "text/plain": [
       "3.841458820694124"
      ]
     },
     "execution_count": 215,
     "metadata": {},
     "output_type": "execute_result"
    }
   ],
   "source": [
    "alpha = 0.05\n",
    "p = 1-0.05\n",
    "chi_critical = stats.chi2.ppf(p, df)\n",
    "chi_critical"
   ]
  },
  {
   "cell_type": "code",
   "execution_count": 216,
   "metadata": {},
   "outputs": [
    {
     "name": "stdout",
     "output_type": "stream",
     "text": [
      "Null hypothesis is rejected\n",
      "p: 0.95, alpha: 0.05\n",
      "Null hypothesis is accepted\n"
     ]
    }
   ],
   "source": [
    "if chi_value < chi_critical:\n",
    "    print(\"Null hypothesis is accepted\")\n",
    "else:\n",
    "    print(\"Null hypothesis is rejected\")\n",
    "\n",
    "print(\"p: {}, alpha: {}\".format(p,alpha))\n",
    "\n",
    "if p > alpha:\n",
    "    print(\"Null hypothesis is accepted\")\n",
    "else:\n",
    "    print(\"Null hypothesis is rejected\")"
   ]
  },
  {
   "cell_type": "markdown",
   "metadata": {},
   "source": [
    "###### Problem Statement 22:\n",
    "We want to test whether short people differ with respect to their leadership qualities\n",
    "(Genghis Khan, Adolf Hitler and Napoleon were all stature-deprived, and how many midget\n",
    "MP's are there?) The following table shows the frequencies with which 43 short people and\n",
    "52 tall people were categorized as \"leaders\", \"followers\" or as \"unclassifiable\". Is there a\n",
    "relationship between height and leadership qualities?"
   ]
  },
  {
   "cell_type": "code",
   "execution_count": 217,
   "metadata": {},
   "outputs": [
    {
     "data": {
      "text/plain": [
       "[[12, 32], [22, 14], [9, 6]]"
      ]
     },
     "execution_count": 217,
     "metadata": {},
     "output_type": "execute_result"
    }
   ],
   "source": [
    "O =[[12,32],[22,14],[9,6]]\n",
    "O"
   ]
  },
  {
   "cell_type": "markdown",
   "metadata": {},
   "source": [
    "###### Hypothesis:\n",
    "1. relationship between height and leadership qualities\n",
    "2. no relationship between height and leadership qualities"
   ]
  },
  {
   "cell_type": "code",
   "execution_count": 221,
   "metadata": {},
   "outputs": [
    {
     "name": "stdout",
     "output_type": "stream",
     "text": [
      "df= 2 and chi_value= 10.712198008709638\n"
     ]
    }
   ],
   "source": [
    "chi_value, p, df, expected= stats.chi2_contingency(O)\n",
    "print(\"df= {} and chi_value= {}\".format(df, chi_value))"
   ]
  },
  {
   "cell_type": "code",
   "execution_count": 222,
   "metadata": {},
   "outputs": [
    {
     "data": {
      "text/plain": [
       "5.991464547107979"
      ]
     },
     "execution_count": 222,
     "metadata": {},
     "output_type": "execute_result"
    }
   ],
   "source": [
    "alpha = 0.05\n",
    "p = 1-0.05\n",
    "chi_critical = stats.chi2.ppf(p, df)\n",
    "chi_critical"
   ]
  },
  {
   "cell_type": "code",
   "execution_count": 223,
   "metadata": {},
   "outputs": [
    {
     "name": "stdout",
     "output_type": "stream",
     "text": [
      "Null hypothesis is rejected\n",
      "p: 0.95, alpha: 0.05\n",
      "Null hypothesis is accepted\n"
     ]
    }
   ],
   "source": [
    "if chi_value < chi_critical:\n",
    "    print(\"Null hypothesis is accepted\")\n",
    "else:\n",
    "    print(\"Null hypothesis is rejected\")\n",
    "\n",
    "print(\"p: {}, alpha: {}\".format(p,alpha))\n",
    "\n",
    "if p > alpha:\n",
    "    print(\"Null hypothesis is accepted\")\n",
    "else:\n",
    "    print(\"Null hypothesis is rejected\")"
   ]
  },
  {
   "cell_type": "markdown",
   "metadata": {},
   "source": [
    "###### Problem Statement 23:\n",
    "Each respondent in the Current Population Survey of March 1993 was classified as\n",
    "employed, unemployed, or outside the labor force. The results for men in California age 35-\n",
    "44 can be cross-tabulated by marital status, as follows:\n",
    "Men of different marital status seem to have different distributions of labor force status. Or is\n",
    "this just chance variation?"
   ]
  },
  {
   "cell_type": "code",
   "execution_count": 224,
   "metadata": {},
   "outputs": [
    {
     "data": {
      "text/plain": [
       "[[679, 103, 114], [63, 10, 20], [42, 18, 25]]"
      ]
     },
     "execution_count": 224,
     "metadata": {},
     "output_type": "execute_result"
    }
   ],
   "source": [
    "O =[[679,103,114],[63,10,20],[42,18,25]]\n",
    "O"
   ]
  },
  {
   "cell_type": "markdown",
   "metadata": {},
   "source": [
    "###### Hypothesis\n",
    "1. Men of different marital status seem to have different distributions of labor force status\n",
    "2. Men of different marital status don't have different distributions of labor force status"
   ]
  },
  {
   "cell_type": "code",
   "execution_count": 231,
   "metadata": {},
   "outputs": [
    {
     "name": "stdout",
     "output_type": "stream",
     "text": [
      "df= 4, chi_value= 31.61310319407798, p_value= 2.2949883042859918e-06\n"
     ]
    }
   ],
   "source": [
    "chi_value, p_value, df, expected= stats.chi2_contingency(O)\n",
    "print(\"df= {}, chi_value= {}, p_value= {}\".format(df, chi_value, p_value))"
   ]
  },
  {
   "cell_type": "code",
   "execution_count": 234,
   "metadata": {},
   "outputs": [
    {
     "data": {
      "text/plain": [
       "9.487729036781154"
      ]
     },
     "execution_count": 234,
     "metadata": {},
     "output_type": "execute_result"
    }
   ],
   "source": [
    "alpha = 0.05\n",
    "p = 1-0.05\n",
    "chi_critical = stats.chi2.ppf(p, df)\n",
    "chi_critical"
   ]
  },
  {
   "cell_type": "code",
   "execution_count": 236,
   "metadata": {},
   "outputs": [
    {
     "name": "stdout",
     "output_type": "stream",
     "text": [
      "Null hypothesis is rejected\n",
      "p_value: 2.2949883042859918e-06, alpha: 0.05\n",
      "Null hypothesis is accepted\n"
     ]
    }
   ],
   "source": [
    "if chi_value < chi_critical:\n",
    "    print(\"Null hypothesis is accepted\")\n",
    "else:\n",
    "    print(\"Null hypothesis is rejected\")\n",
    "\n",
    "print(\"p_value: {}, alpha: {}\".format(p_value,alpha))\n",
    "\n",
    "if p_value < alpha:\n",
    "    print(\"Null hypothesis is accepted\")\n",
    "else:\n",
    "    print(\"Null hypothesis is rejected\")"
   ]
  },
  {
   "cell_type": "code",
   "execution_count": null,
   "metadata": {},
   "outputs": [],
   "source": []
  },
  {
   "cell_type": "code",
   "execution_count": null,
   "metadata": {},
   "outputs": [],
   "source": []
  }
 ],
 "metadata": {
  "kernelspec": {
   "display_name": "Python 3",
   "language": "python",
   "name": "python3"
  },
  "language_info": {
   "codemirror_mode": {
    "name": "ipython",
    "version": 3
   },
   "file_extension": ".py",
   "mimetype": "text/x-python",
   "name": "python",
   "nbconvert_exporter": "python",
   "pygments_lexer": "ipython3",
   "version": "3.8.3"
  }
 },
 "nbformat": 4,
 "nbformat_minor": 4
}
